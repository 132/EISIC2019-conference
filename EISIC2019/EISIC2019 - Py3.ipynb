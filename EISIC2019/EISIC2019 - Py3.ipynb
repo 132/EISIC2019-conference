{
 "cells": [
  {
   "cell_type": "markdown",
   "metadata": {},
   "source": [
    "# Libraries and Data"
   ]
  },
  {
   "cell_type": "code",
   "execution_count": 15,
   "metadata": {
    "ExecuteTime": {
     "end_time": "2019-08-14T21:13:52.693924Z",
     "start_time": "2019-08-14T21:13:52.686247Z"
    }
   },
   "outputs": [],
   "source": [
    "# import Libs\n",
    "import numpy as np\n",
    "import pandas as pd\n",
    "import matplotlib.pyplot as plt\n",
    "\n",
    "from sklearn.tree import DecisionTreeClassifier # Import Decision Tree Classifier\n",
    "from sklearn.model_selection import train_test_split # Import train_test_split function\n",
    "from sklearn import metrics #Import scikit-learn metrics module for accuracy calculation\n",
    "\n",
    "from sklearn.tree import export_graphviz\n",
    "from sklearn.externals.six import StringIO  \n",
    "from IPython.display import Image  \n",
    "import pydotplus\n",
    "\n",
    "### Kmean\n",
    "\n",
    "import matplotlib.pyplot as plt\n",
    "from sklearn import datasets\n",
    "from sklearn.cluster import KMeans\n",
    "import sklearn.metrics as sm\n",
    "\n",
    "#### Display jupyter\n",
    "pd.set_option('display.max_columns', 999)\n",
    "pd.set_option('display.max_rows', 999)\n",
    "from IPython.core.interactiveshell import InteractiveShell\n",
    "InteractiveShell.ast_node_interactivity = \"all\""
   ]
  },
  {
   "cell_type": "code",
   "execution_count": 3,
   "metadata": {
    "ExecuteTime": {
     "end_time": "2019-08-14T21:08:07.858681Z",
     "start_time": "2019-08-14T21:03:55.197138Z"
    }
   },
   "outputs": [
    {
     "data": {
      "text/plain": [
       "'\\nCreated on Tue Aug 13 14:57:42 2019\\n@author: pkostako\\n'"
      ]
     },
     "execution_count": 3,
     "metadata": {},
     "output_type": "execute_result"
    }
   ],
   "source": [
    "\"\"\"\n",
    "Created on Tue Aug 13 14:57:42 2019\n",
    "@author: pkostako\n",
    "\"\"\"\n",
    "\n",
    "#import urllib.request\n",
    "\n",
    "#url = 'http://apps.start.umd.edu/gtd/downloads/dataset/globalterrorismdb_0718dist.xlsx'\n",
    "#urllib.request.urlretrieve(url, \"terror.xlsx\")\n",
    "df = pd.read_excel(\"terror.xlsx\")\n",
    "df.to_csv(\"./data.csv\", sep=\",\")\n",
    "#df = pd.read_csv('data.csv')"
   ]
  },
  {
   "cell_type": "markdown",
   "metadata": {},
   "source": [
    "# Clustering Countries based on successful and unsuccessful"
   ]
  },
  {
   "cell_type": "code",
   "execution_count": 16,
   "metadata": {
    "ExecuteTime": {
     "end_time": "2019-08-14T21:14:08.170579Z",
     "start_time": "2019-08-14T21:14:05.556543Z"
    }
   },
   "outputs": [
    {
     "data": {
      "text/plain": [
       "KMeans(algorithm='auto', copy_x=True, init='k-means++', max_iter=10000,\n",
       "       n_clusters=1, n_init=100, n_jobs=None, precompute_distances='auto',\n",
       "       random_state=0, tol=0.0001, verbose=0)"
      ]
     },
     "execution_count": 16,
     "metadata": {},
     "output_type": "execute_result"
    },
    {
     "data": {
      "text/plain": [
       "KMeans(algorithm='auto', copy_x=True, init='k-means++', max_iter=10000,\n",
       "       n_clusters=2, n_init=100, n_jobs=None, precompute_distances='auto',\n",
       "       random_state=0, tol=0.0001, verbose=0)"
      ]
     },
     "execution_count": 16,
     "metadata": {},
     "output_type": "execute_result"
    },
    {
     "data": {
      "text/plain": [
       "KMeans(algorithm='auto', copy_x=True, init='k-means++', max_iter=10000,\n",
       "       n_clusters=3, n_init=100, n_jobs=None, precompute_distances='auto',\n",
       "       random_state=0, tol=0.0001, verbose=0)"
      ]
     },
     "execution_count": 16,
     "metadata": {},
     "output_type": "execute_result"
    },
    {
     "data": {
      "text/plain": [
       "KMeans(algorithm='auto', copy_x=True, init='k-means++', max_iter=10000,\n",
       "       n_clusters=4, n_init=100, n_jobs=None, precompute_distances='auto',\n",
       "       random_state=0, tol=0.0001, verbose=0)"
      ]
     },
     "execution_count": 16,
     "metadata": {},
     "output_type": "execute_result"
    },
    {
     "data": {
      "text/plain": [
       "KMeans(algorithm='auto', copy_x=True, init='k-means++', max_iter=10000,\n",
       "       n_clusters=5, n_init=100, n_jobs=None, precompute_distances='auto',\n",
       "       random_state=0, tol=0.0001, verbose=0)"
      ]
     },
     "execution_count": 16,
     "metadata": {},
     "output_type": "execute_result"
    },
    {
     "data": {
      "text/plain": [
       "KMeans(algorithm='auto', copy_x=True, init='k-means++', max_iter=10000,\n",
       "       n_clusters=6, n_init=100, n_jobs=None, precompute_distances='auto',\n",
       "       random_state=0, tol=0.0001, verbose=0)"
      ]
     },
     "execution_count": 16,
     "metadata": {},
     "output_type": "execute_result"
    },
    {
     "data": {
      "text/plain": [
       "KMeans(algorithm='auto', copy_x=True, init='k-means++', max_iter=10000,\n",
       "       n_clusters=7, n_init=100, n_jobs=None, precompute_distances='auto',\n",
       "       random_state=0, tol=0.0001, verbose=0)"
      ]
     },
     "execution_count": 16,
     "metadata": {},
     "output_type": "execute_result"
    },
    {
     "data": {
      "text/plain": [
       "KMeans(algorithm='auto', copy_x=True, init='k-means++', max_iter=10000,\n",
       "       n_clusters=8, n_init=100, n_jobs=None, precompute_distances='auto',\n",
       "       random_state=0, tol=0.0001, verbose=0)"
      ]
     },
     "execution_count": 16,
     "metadata": {},
     "output_type": "execute_result"
    },
    {
     "data": {
      "text/plain": [
       "KMeans(algorithm='auto', copy_x=True, init='k-means++', max_iter=10000,\n",
       "       n_clusters=9, n_init=100, n_jobs=None, precompute_distances='auto',\n",
       "       random_state=0, tol=0.0001, verbose=0)"
      ]
     },
     "execution_count": 16,
     "metadata": {},
     "output_type": "execute_result"
    },
    {
     "data": {
      "text/plain": [
       "KMeans(algorithm='auto', copy_x=True, init='k-means++', max_iter=10000,\n",
       "       n_clusters=10, n_init=100, n_jobs=None, precompute_distances='auto',\n",
       "       random_state=0, tol=0.0001, verbose=0)"
      ]
     },
     "execution_count": 16,
     "metadata": {},
     "output_type": "execute_result"
    },
    {
     "data": {
      "text/plain": [
       "[<matplotlib.lines.Line2D at 0x7f398e02b5f8>]"
      ]
     },
     "execution_count": 16,
     "metadata": {},
     "output_type": "execute_result"
    },
    {
     "data": {
      "text/plain": [
       "Text(0.5, 1.0, 'Elbow method based on success feature')"
      ]
     },
     "execution_count": 16,
     "metadata": {},
     "output_type": "execute_result"
    },
    {
     "data": {
      "text/plain": [
       "Text(0.5, 0, 'Number of clusters')"
      ]
     },
     "execution_count": 16,
     "metadata": {},
     "output_type": "execute_result"
    },
    {
     "data": {
      "text/plain": [
       "Text(0, 0.5, 'WCSS')"
      ]
     },
     "execution_count": 16,
     "metadata": {},
     "output_type": "execute_result"
    },
    {
     "data": {
      "image/png": "[encoded data removed]",
      "text/plain": [
       "<Figure size 432x288 with 1 Axes>"
      ]
     },
     "metadata": {
      "needs_background": "light"
     },
     "output_type": "display_data"
    }
   ],
   "source": [
    "#Create a two way table #Country.name, #Success\n",
    "\n",
    "# ratio - variable\n",
    "country_success = pd.crosstab(df.country_txt, df.success)\n",
    "\n",
    "X = country_success.iloc[:, [0,1]].values\n",
    "\n",
    "#Find out the optimal number of clasters using the elbow method\n",
    "import matplotlib.pyplot as plt\n",
    "from sklearn.cluster import KMeans\n",
    "\n",
    "wcss= []\n",
    "for i in range(1,11):\n",
    "    kmeans = KMeans(n_clusters = i, init = 'k-means++', max_iter = 10000, n_init = 100, random_state = 0)\n",
    "    kmeans.fit(X)\n",
    "    wcss.append(kmeans.inertia_)\n",
    "plt.plot(range(1,11), wcss)\n",
    "plt.title(\"Elbow method based on success feature\")\n",
    "plt.xlabel(\"Number of clusters\")\n",
    "plt.ylabel(\"WCSS\")\n",
    "plt.show()"
   ]
  },
  {
   "cell_type": "code",
   "execution_count": 123,
   "metadata": {
    "ExecuteTime": {
     "end_time": "2019-08-14T09:49:29.824319Z",
     "start_time": "2019-08-14T09:49:29.561531Z"
    }
   },
   "outputs": [
    {
     "data": {
      "image/png": "[encoded data removed]",
      "text/plain": [
       "<Figure size 432x288 with 1 Axes>"
      ]
     },
     "metadata": {
      "needs_background": "light"
     },
     "output_type": "display_data"
    }
   ],
   "source": [
    "#Apply kmeans to the Ratio dataset. \n",
    "\n",
    "kmeans= KMeans(n_clusters = 4, init = 'k-means++', max_iter = 100000, n_init = 10, random_state = 1000)\n",
    "y_kmeans = kmeans.fit_predict(X)\n",
    "\n",
    "#Viz the clusters\n",
    "\n",
    "plt.scatter(X[y_kmeans== 0, 0], X[y_kmeans== 0, 1], s =100, c= 'red', label = \"Cluster1\")\n",
    "plt.scatter(X[y_kmeans== 1, 0], X[y_kmeans== 1, 1], s = 100, c= 'blue', label = \"Cluster2\")\n",
    "plt.scatter(X[y_kmeans== 2, 0], X[y_kmeans== 2, 1], s = 100, c= 'pink', label = \"Cluster3\")\n",
    "plt.scatter(X[y_kmeans== 3, 0], X[y_kmeans== 3, 1], s = 100, c= 'cyan', label = \"Cluster4\")\n",
    "plt.scatter(X[y_kmeans== 4, 0], X[y_kmeans== 4, 1], s = 100, c= 'purple', label = \"Cluster5\")\n",
    "\n",
    "plt.scatter(kmeans.cluster_centers_[:,0], kmeans.cluster_centers_[:, 1], s=10, c = 'green', label = 'Centroids')\n",
    "plt.title ('Cluster of countries responding to terrorist events')\n",
    "plt.xlabel('Attacks that have been unsuccessful')\n",
    "plt.ylabel(\"Attacks that have been successful\")\n",
    "plt.legend()\n",
    "plt.show()"
   ]
  },
  {
   "cell_type": "code",
   "execution_count": 122,
   "metadata": {
    "ExecuteTime": {
     "end_time": "2019-08-14T09:49:19.405849Z",
     "start_time": "2019-08-14T09:49:19.109392Z"
    }
   },
   "outputs": [
    {
     "data": {
      "image/png": "[encoded data removed]",
      "text/plain": [
       "<Figure size 432x288 with 1 Axes>"
      ]
     },
     "metadata": {
      "needs_background": "light"
     },
     "output_type": "display_data"
    }
   ],
   "source": [
    "#Apply Hierarchy to the Ratio dataset. \n",
    "\n",
    "kmeans= KMeans(n_clusters = 4, init = 'k-means++', max_iter = 100000, n_init = 10, random_state = 0)\n",
    "y_kmeans = kmeans.fit_predict(X)\n",
    "\n",
    "#Viz the clusters\n",
    "\n",
    "plt.scatter(X[y_kmeans== 0, 0], X[y_kmeans== 0, 1], s =100, c= 'red', label = \"Cluster1\")\n",
    "plt.scatter(X[y_kmeans== 1, 0], X[y_kmeans== 1, 1], s = 100, c= 'blue', label = \"Cluster2\")\n",
    "plt.scatter(X[y_kmeans== 2, 0], X[y_kmeans== 2, 1], s = 100, c= 'pink', label = \"Cluster3\")\n",
    "plt.scatter(X[y_kmeans== 3, 0], X[y_kmeans== 3, 1], s = 100, c= 'cyan', label = \"Cluster4\")\n",
    "plt.scatter(X[y_kmeans== 4, 0], X[y_kmeans== 4, 1], s = 100, c= 'purple', label = \"Cluster5\")\n",
    "\n",
    "plt.scatter(kmeans.cluster_centers_[:,0], kmeans.cluster_centers_[:, 1], s=10, c = 'green', label = 'Centroids')\n",
    "plt.title ('Cluster of countries responding to terrorist events')\n",
    "plt.xlabel('Attacks that have been unsuccessful')\n",
    "plt.ylabel(\"Attacks that have been successful\")\n",
    "plt.legend()\n",
    "plt.show()"
   ]
  },
  {
   "cell_type": "markdown",
   "metadata": {
    "ExecuteTime": {
     "end_time": "2019-08-14T08:28:12.264205Z",
     "start_time": "2019-08-14T08:28:12.261019Z"
    }
   },
   "source": [
    "# Clustering Countries based on the number of incidents and ratio of successful"
   ]
  },
  {
   "cell_type": "code",
   "execution_count": null,
   "metadata": {
    "ExecuteTime": {
     "end_time": "2019-08-14T09:32:18.321147Z",
     "start_time": "2019-08-14T09:32:18.310507Z"
    }
   },
   "outputs": [],
   "source": []
  },
  {
   "cell_type": "code",
   "execution_count": 4,
   "metadata": {
    "ExecuteTime": {
     "end_time": "2019-08-14T21:08:08.732713Z",
     "start_time": "2019-08-14T21:08:08.661902Z"
    }
   },
   "outputs": [
    {
     "name": "stdout",
     "output_type": "stream",
     "text": [
      "success                              0      1\n",
      "country_txt                                  \n",
      "Afghanistan                       1590  11141\n",
      "Albania                             16     64\n",
      "Algeria                            182   2561\n",
      "Andorra                              0      1\n",
      "Angola                              13    486\n",
      "Antigua and Barbuda                  0      1\n",
      "Argentina                          101    714\n",
      "Armenia                              4     20\n",
      "Australia                           17     97\n",
      "Austria                             27     88\n",
      "Azerbaijan                           5     44\n",
      "Bahamas                              1      4\n",
      "Bahrain                             28    179\n",
      "Bangladesh                         129   1519\n",
      "Barbados                             0      3\n",
      "Belarus                              0     13\n",
      "Belgium                             29    125\n",
      "Belize                               1      7\n",
      "Benin                                0      8\n",
      "Bhutan                               0      6\n",
      "Bolivia                             41    273\n",
      "Bosnia-Herzegovina                   8    151\n",
      "Botswana                             0     10\n",
      "Brazil                              36    237\n",
      "Brunei                               6      0\n",
      "Bulgaria                             6     46\n",
      "Burkina Faso                         7     45\n",
      "Burundi                             23    590\n",
      "Cambodia                            16    243\n",
      "Cameroon                            23    309\n",
      "Canada                              21     75\n",
      "Central African Republic            20    263\n",
      "Chad                                 4     87\n",
      "Chile                              144   2221\n",
      "China                               32    220\n",
      "Colombia                           594   7712\n",
      "Comoros                              2      3\n",
      "Costa Rica                          11     56\n",
      "Croatia                              2     55\n",
      "Cuba                                 9     21\n",
      "Cyprus                              20    112\n",
      "Czech Republic                       9     23\n",
      "Czechoslovakia                       3      7\n",
      "Democratic Republic of the Congo    58    717\n",
      "Denmark                              6     35\n",
      "Djibouti                             0     22\n",
      "Dominica                             1      2\n",
      "Dominican Republic                   5     85\n",
      "East Germany (GDR)                   3     35\n",
      "East Timor                           3      7\n",
      "Ecuador                             17    203\n",
      "Egypt                              468   2011\n",
      "El Salvador                         93   5227\n",
      "Equatorial Guinea                    0      2\n",
      "Eritrea                              0     10\n",
      "Estonia                              0     16\n",
      "Ethiopia                             9    181\n",
      "Falkland Islands                     0      1\n",
      "Fiji                                 1     16\n",
      "Finland                              1     19\n",
      "France                             212   2481\n",
      "French Guiana                        1      6\n",
      "French Polynesia                     0      3\n",
      "Gabon                                2      6\n",
      "Gambia                               2      1\n",
      "Georgia                             25    192\n",
      "Germany                             76    659\n",
      "Ghana                                4     15\n",
      "Greece                             149   1126\n",
      "Grenada                              2      3\n",
      "Guadeloupe                           9     47\n",
      "Guatemala                          114   1936\n",
      "Guinea                               4     21\n",
      "Guinea-Bissau                        1      8\n",
      "Guyana                               7     19\n",
      "Haiti                               28    185\n",
      "Honduras                            37    286\n",
      "Hong Kong                            6     20\n",
      "Hungary                              6     40\n",
      "Iceland                              0      4\n",
      "India                             1680  10280\n",
      "Indonesia                           95    666\n",
      "International                        0      1\n",
      "Iran                                90    594\n",
      "Iraq                              2775  21861\n",
      "Ireland                            168    139\n",
      "Israel                             500   1683\n",
      "Italy                              173   1392\n",
      "Ivory Coast                          7     67\n",
      "Jamaica                              4     32\n",
      "Japan                               61    341\n",
      "Jordan                              29     84\n",
      "Kazakhstan                           5     22\n",
      "Kenya                               75    608\n",
      "Kosovo                              24    172\n",
      "Kuwait                              13     63\n",
      "Kyrgyzstan                           8     27\n",
      "Laos                                 3     24\n",
      "Latvia                               4     13\n",
      "Lebanon                            296   2182\n",
      "Lesotho                              4     25\n",
      "Liberia                              2     32\n",
      "Libya                              263   1986\n",
      "Lithuania                            1      7\n",
      "Luxembourg                           2     14\n",
      "Macau                                6     27\n",
      "Macedonia                           11    107\n",
      "Madagascar                           4     23\n",
      "Malawi                               0      5\n",
      "Malaysia                            13     86\n",
      "Maldives                             4     18\n",
      "Mali                                43    523\n",
      "Malta                                1     22\n",
      "Martinique                           0     12\n",
      "Mauritania                           4     14\n",
      "Mauritius                            2      0\n",
      "Mexico                              45    479\n",
      "Moldova                              3     18\n",
      "Montenegro                           0      5\n",
      "Morocco                              3     33\n",
      "Mozambique                          17    346\n",
      "Myanmar                             37    509\n",
      "Namibia                              4    147\n",
      "Nepal                              259    956\n",
      "Netherlands                         23    107\n",
      "New Caledonia                        3     28\n",
      "New Hebrides                         0      1\n",
      "New Zealand                          9     11\n",
      "Nicaragua                           31   1939\n",
      "Niger                                8    146\n",
      "Nigeria                            314   3593\n",
      "North Korea                          0      1\n",
      "North Yemen                          2      4\n",
      "Norway                               3     16\n",
      "Pakistan                          1768  12600\n",
      "Panama                              17    110\n",
      "Papua New Guinea                    12     77\n",
      "Paraguay                            13    101\n",
      "People's Republic of the Congo       1      3\n",
      "Peru                               341   5755\n",
      "Philippines                        933   5975\n",
      "Poland                               5     34\n",
      "Portugal                            11    129\n",
      "Qatar                                1      6\n",
      "Republic of the Congo                1     35\n",
      "Rhodesia                             3     80\n",
      "Romania                              2      4\n",
      "Russia                             384   1810\n",
      "Rwanda                               5    154\n",
      "Saudi Arabia                        52    319\n",
      "Senegal                              2    116\n",
      "Serbia                               1     11\n",
      "Serbia-Montenegro                    1     10\n",
      "Seychelles                           0      2\n",
      "Sierra Leone                         3     98\n",
      "Singapore                            0      7\n",
      "Slovak Republic                      3     15\n",
      "Slovenia                             0      6\n",
      "Solomon Islands                      0      4\n",
      "Somalia                            338   3804\n",
      "South Africa                       139   1877\n",
      "South Korea                          4     34\n",
      "South Sudan                         32    193\n",
      "South Vietnam                        0      1\n",
      "South Yemen                          0      2\n",
      "Soviet Union                        11     67\n",
      "Spain                              431   2818\n",
      "Sri Lanka                          173   2849\n",
      "St. Kitts and Nevis                  0      2\n",
      "St. Lucia                            0      1\n",
      "Sudan                               34    933\n",
      "Suriname                             5     61\n",
      "Swaziland                            1     15\n",
      "Sweden                              19    113\n",
      "Switzerland                         21     90\n",
      "Syria                               82   2119\n",
      "Taiwan                              13     37\n",
      "Tajikistan                           8    180\n",
      "Tanzania                             9     50\n",
      "Thailand                           223   3626\n",
      "Togo                                 6     42\n",
      "Trinidad and Tobago                  2     20\n",
      "Tunisia                             12     97\n",
      "Turkey                             383   3909\n",
      "Turkmenistan                         1      1\n",
      "Uganda                              31    363\n",
      "Ukraine                            180   1529\n",
      "United Arab Emirates                 5     17\n",
      "United Kingdom                    1029   4206\n",
      "United States                      496   2340\n",
      "Uruguay                             11     71\n",
      "Uzbekistan                           2     19\n",
      "Vanuatu                              0      2\n",
      "Vatican City                         1      0\n",
      "Venezuela                           47    246\n",
      "Vietnam                              5      7\n",
      "Wallis and Futuna                    0      1\n",
      "West Bank and Gaza Strip           461   1766\n",
      "West Germany (FRG)                  76    465\n",
      "Western Sahara                       0      5\n",
      "Yemen                              510   2837\n",
      "Yugoslavia                          24    179\n",
      "Zaire                                5     45\n",
      "Zambia                               4     58\n",
      "Zimbabwe                             5     96\n"
     ]
    },
    {
     "data": {
      "text/plain": [
       "'\\ncountry_NoIncident_Ratio = [country_success.index,X.]\\n\\n# index is the name of countries\\nfor index, eachRow in country_success.iterrows():\\n    print (index)\\n'"
      ]
     },
     "execution_count": 4,
     "metadata": {},
     "output_type": "execute_result"
    }
   ],
   "source": [
    "\n",
    "country_success = pd.crosstab(df.country_txt, df.success)\n",
    "X = country_success.iloc[:, [0,1]].values\n",
    "noIncidents = np.sum(X,axis=1).tolist()\n",
    "#print (country_success.values[0][:])\n",
    "\n",
    "print (country_success)\n",
    "\n",
    "ratioIncident = []\n",
    "for i in X:\n",
    "    if i[0]==0 or i[1] == 0 :\n",
    "        ratio_temp = 0\n",
    "    elif i[1] > i[0]:\n",
    "        ratio_temp = i[1] / i[0]\n",
    "    elif i[1] < i[0]:\n",
    "        ratio_temp = i[0] / i[1]\n",
    "    ratioIncident.append(round(ratio_temp, 3))\n",
    "\n",
    "#print (ratioIncident)\n",
    "\n",
    "ratio_no = np.column_stack((ratioIncident, noIncidents))\n",
    "\n",
    "#print (ratio_no)\n",
    "\n",
    "#print (X[:, 0])\n",
    "\n",
    "#country_NoIncident_Ratio = (country_success.index, X[:, 0], X[:, 1], ratioIncident, noIncidents)\n",
    "\n",
    "\"\"\"\n",
    "country_NoIncident_Ratio = [country_success.index,X.]\n",
    "\n",
    "# index is the name of countries\n",
    "for index, eachRow in country_success.iterrows():\n",
    "    print (index)\n",
    "\"\"\""
   ]
  },
  {
   "cell_type": "code",
   "execution_count": 5,
   "metadata": {
    "ExecuteTime": {
     "end_time": "2019-08-14T21:08:11.939725Z",
     "start_time": "2019-08-14T21:08:09.434612Z"
    }
   },
   "outputs": [
    {
     "data": {
      "text/plain": [
       "KMeans(algorithm='auto', copy_x=True, init='k-means++', max_iter=10000,\n",
       "       n_clusters=1, n_init=100, n_jobs=None, precompute_distances='auto',\n",
       "       random_state=0, tol=0.0001, verbose=0)"
      ]
     },
     "execution_count": 5,
     "metadata": {},
     "output_type": "execute_result"
    },
    {
     "data": {
      "text/plain": [
       "KMeans(algorithm='auto', copy_x=True, init='k-means++', max_iter=10000,\n",
       "       n_clusters=2, n_init=100, n_jobs=None, precompute_distances='auto',\n",
       "       random_state=0, tol=0.0001, verbose=0)"
      ]
     },
     "execution_count": 5,
     "metadata": {},
     "output_type": "execute_result"
    },
    {
     "data": {
      "text/plain": [
       "KMeans(algorithm='auto', copy_x=True, init='k-means++', max_iter=10000,\n",
       "       n_clusters=3, n_init=100, n_jobs=None, precompute_distances='auto',\n",
       "       random_state=0, tol=0.0001, verbose=0)"
      ]
     },
     "execution_count": 5,
     "metadata": {},
     "output_type": "execute_result"
    },
    {
     "data": {
      "text/plain": [
       "KMeans(algorithm='auto', copy_x=True, init='k-means++', max_iter=10000,\n",
       "       n_clusters=4, n_init=100, n_jobs=None, precompute_distances='auto',\n",
       "       random_state=0, tol=0.0001, verbose=0)"
      ]
     },
     "execution_count": 5,
     "metadata": {},
     "output_type": "execute_result"
    },
    {
     "data": {
      "text/plain": [
       "KMeans(algorithm='auto', copy_x=True, init='k-means++', max_iter=10000,\n",
       "       n_clusters=5, n_init=100, n_jobs=None, precompute_distances='auto',\n",
       "       random_state=0, tol=0.0001, verbose=0)"
      ]
     },
     "execution_count": 5,
     "metadata": {},
     "output_type": "execute_result"
    },
    {
     "data": {
      "text/plain": [
       "KMeans(algorithm='auto', copy_x=True, init='k-means++', max_iter=10000,\n",
       "       n_clusters=6, n_init=100, n_jobs=None, precompute_distances='auto',\n",
       "       random_state=0, tol=0.0001, verbose=0)"
      ]
     },
     "execution_count": 5,
     "metadata": {},
     "output_type": "execute_result"
    },
    {
     "data": {
      "text/plain": [
       "KMeans(algorithm='auto', copy_x=True, init='k-means++', max_iter=10000,\n",
       "       n_clusters=7, n_init=100, n_jobs=None, precompute_distances='auto',\n",
       "       random_state=0, tol=0.0001, verbose=0)"
      ]
     },
     "execution_count": 5,
     "metadata": {},
     "output_type": "execute_result"
    },
    {
     "data": {
      "text/plain": [
       "KMeans(algorithm='auto', copy_x=True, init='k-means++', max_iter=10000,\n",
       "       n_clusters=8, n_init=100, n_jobs=None, precompute_distances='auto',\n",
       "       random_state=0, tol=0.0001, verbose=0)"
      ]
     },
     "execution_count": 5,
     "metadata": {},
     "output_type": "execute_result"
    },
    {
     "data": {
      "text/plain": [
       "KMeans(algorithm='auto', copy_x=True, init='k-means++', max_iter=10000,\n",
       "       n_clusters=9, n_init=100, n_jobs=None, precompute_distances='auto',\n",
       "       random_state=0, tol=0.0001, verbose=0)"
      ]
     },
     "execution_count": 5,
     "metadata": {},
     "output_type": "execute_result"
    },
    {
     "data": {
      "text/plain": [
       "KMeans(algorithm='auto', copy_x=True, init='k-means++', max_iter=10000,\n",
       "       n_clusters=10, n_init=100, n_jobs=None, precompute_distances='auto',\n",
       "       random_state=0, tol=0.0001, verbose=0)"
      ]
     },
     "execution_count": 5,
     "metadata": {},
     "output_type": "execute_result"
    },
    {
     "ename": "NameError",
     "evalue": "name 'wcss' is not defined",
     "output_type": "error",
     "traceback": [
      "\u001b[0;31m---------------------------------------------------------------------------\u001b[0m",
      "\u001b[0;31mNameError\u001b[0m                                 Traceback (most recent call last)",
      "\u001b[0;32m<ipython-input-5-dec387b616a4>\u001b[0m in \u001b[0;36m<module>\u001b[0;34m\u001b[0m\n\u001b[1;32m     11\u001b[0m     \u001b[0mwcss_2\u001b[0m\u001b[0;34m.\u001b[0m\u001b[0mappend\u001b[0m\u001b[0;34m(\u001b[0m\u001b[0mkmeans\u001b[0m\u001b[0;34m.\u001b[0m\u001b[0minertia_\u001b[0m\u001b[0;34m)\u001b[0m\u001b[0;34m\u001b[0m\u001b[0;34m\u001b[0m\u001b[0m\n\u001b[1;32m     12\u001b[0m \u001b[0;34m\u001b[0m\u001b[0m\n\u001b[0;32m---> 13\u001b[0;31m \u001b[0mplt\u001b[0m\u001b[0;34m.\u001b[0m\u001b[0mplot\u001b[0m\u001b[0;34m(\u001b[0m\u001b[0mrange\u001b[0m\u001b[0;34m(\u001b[0m\u001b[0;36m1\u001b[0m\u001b[0;34m,\u001b[0m\u001b[0;36m11\u001b[0m\u001b[0;34m)\u001b[0m\u001b[0;34m,\u001b[0m \u001b[0mwcss\u001b[0m\u001b[0;34m)\u001b[0m\u001b[0;34m\u001b[0m\u001b[0;34m\u001b[0m\u001b[0m\n\u001b[0m\u001b[1;32m     14\u001b[0m \u001b[0mplt\u001b[0m\u001b[0;34m.\u001b[0m\u001b[0mtitle\u001b[0m\u001b[0;34m(\u001b[0m\u001b[0;34m\"Elbow method for number and ratio attacks\"\u001b[0m\u001b[0;34m)\u001b[0m\u001b[0;34m\u001b[0m\u001b[0;34m\u001b[0m\u001b[0m\n\u001b[1;32m     15\u001b[0m \u001b[0mplt\u001b[0m\u001b[0;34m.\u001b[0m\u001b[0mxlabel\u001b[0m\u001b[0;34m(\u001b[0m\u001b[0;34m\"Number of clusters\"\u001b[0m\u001b[0;34m)\u001b[0m\u001b[0;34m\u001b[0m\u001b[0;34m\u001b[0m\u001b[0m\n",
      "\u001b[0;31mNameError\u001b[0m: name 'wcss' is not defined"
     ]
    }
   ],
   "source": [
    "#Find out the optimal number of clasters using the elbow method\n",
    "from sklearn.preprocessing import Normalizer\n",
    "\n",
    "ratio_no_transformer = Normalizer().fit(ratio_no) \n",
    "ratio_no_transformer = ratio_no_transformer.transform(X)\n",
    "\n",
    "wcss_2= []\n",
    "for i in range(1,11):\n",
    "    kmeans = KMeans(n_clusters = i, init = 'k-means++', max_iter = 10000, n_init = 100, random_state = 0)\n",
    "    kmeans.fit(ratio_no)\n",
    "    wcss_2.append(kmeans.inertia_)\n",
    "    \n",
    "plt.plot(range(1,11), wcss)\n",
    "plt.title(\"Elbow method for number and ratio attacks\")\n",
    "plt.xlabel(\"Number of clusters\")\n",
    "plt.ylabel(\"WCSS\")\n",
    "plt.show()"
   ]
  },
  {
   "cell_type": "code",
   "execution_count": 6,
   "metadata": {
    "ExecuteTime": {
     "end_time": "2019-08-14T21:08:54.619989Z",
     "start_time": "2019-08-14T21:08:54.164892Z"
    }
   },
   "outputs": [
    {
     "data": {
      "text/plain": [
       "<matplotlib.collections.PathCollection at 0x7f397baf2be0>"
      ]
     },
     "execution_count": 6,
     "metadata": {},
     "output_type": "execute_result"
    },
    {
     "data": {
      "text/plain": [
       "<matplotlib.collections.PathCollection at 0x7f397baf2fd0>"
      ]
     },
     "execution_count": 6,
     "metadata": {},
     "output_type": "execute_result"
    },
    {
     "data": {
      "text/plain": [
       "<matplotlib.collections.PathCollection at 0x7f397baf2c50>"
      ]
     },
     "execution_count": 6,
     "metadata": {},
     "output_type": "execute_result"
    },
    {
     "data": {
      "text/plain": [
       "<matplotlib.collections.PathCollection at 0x7f397cdca5f8>"
      ]
     },
     "execution_count": 6,
     "metadata": {},
     "output_type": "execute_result"
    },
    {
     "data": {
      "text/plain": [
       "<matplotlib.collections.PathCollection at 0x7f397cdca940>"
      ]
     },
     "execution_count": 6,
     "metadata": {},
     "output_type": "execute_result"
    },
    {
     "data": {
      "text/plain": [
       "<matplotlib.collections.PathCollection at 0x7f397cdcac50>"
      ]
     },
     "execution_count": 6,
     "metadata": {},
     "output_type": "execute_result"
    },
    {
     "data": {
      "text/plain": [
       "Text(0.5, 1.0, 'Cluster of countries responding to terrorist events (Normalization)')"
      ]
     },
     "execution_count": 6,
     "metadata": {},
     "output_type": "execute_result"
    },
    {
     "data": {
      "text/plain": [
       "Text(0.5, 0, 'The ratio between successful and unsuccesful incidents')"
      ]
     },
     "execution_count": 6,
     "metadata": {},
     "output_type": "execute_result"
    },
    {
     "data": {
      "text/plain": [
       "Text(0, 0.5, 'The number of incidents')"
      ]
     },
     "execution_count": 6,
     "metadata": {},
     "output_type": "execute_result"
    },
    {
     "data": {
      "text/plain": [
       "<matplotlib.legend.Legend at 0x7f397cdcabe0>"
      ]
     },
     "execution_count": 6,
     "metadata": {},
     "output_type": "execute_result"
    },
    {
     "data": {
      "image/png": "[encoded data removed]",
      "text/plain": [
       "<Figure size 432x288 with 1 Axes>"
      ]
     },
     "metadata": {
      "needs_background": "light"
     },
     "output_type": "display_data"
    }
   ],
   "source": [
    "#Apply kmeans to the Ratio dataset. \n",
    "\n",
    "from sklearn.preprocessing import Normalizer\n",
    "\n",
    "ratio_no_transformer = Normalizer().fit(ratio_no) \n",
    "ratio_no_transformer = ratio_no_transformer.transform(X)\n",
    "\n",
    "kmeans= KMeans(n_clusters = 5, init = 'k-means++', max_iter = 100000, n_init = 10, random_state = 5)\n",
    "y_kmeans2 = kmeans.fit_predict(ratio_no_transformer)\n",
    "\n",
    "#Viz the clusters\n",
    "\n",
    "#plt.scatter(ratio_no[y_kmeans2== 0, 0], ratio_no[y_kmeans2== 0, 1], s = 100, c= 'red', label = \"Cluster1\")\n",
    "#plt.scatter(ratio_no[y_kmeans2== 1, 0], ratio_no[y_kmeans2== 1, 1], s = 100, c= 'blue', label = \"Cluster2\")\n",
    "#plt.scatter(ratio_no[y_kmeans2== 2, 0], ratio_no[y_kmeans2== 2, 1], s = 100, c= 'pink', label = \"Cluster3\")\n",
    "#plt.scatter(ratio_no[y_kmeans2== 3, 0], ratio_no[y_kmeans2== 3, 1], s = 100, c= 'cyan', label = \"Cluster4\")\n",
    "#plt.scatter(ratio_no[y_kmeans2== 4, 0], ratio_no[y_kmeans2== 4, 1], s = 100, c= 'purple', label = \"Cluster5\")\n",
    "#plt.scatter(ratio_no[y_kmeans2== 5, 0], ratio_no[y_kmeans2== 5, 1], s = 100, c= 'lightblue', label = \"Cluster5\")\n",
    "\n",
    "plt.scatter(ratio_no_transformer[y_kmeans2== 0, 0], ratio_no_transformer[y_kmeans2== 0, 1], s = 100, c= 'red', label = \"Cluster1\")\n",
    "plt.scatter(ratio_no_transformer[y_kmeans2== 1, 0], ratio_no_transformer[y_kmeans2== 1, 1], s = 100, c= 'blue', label = \"Cluster2\")\n",
    "plt.scatter(ratio_no_transformer[y_kmeans2== 2, 0], ratio_no_transformer[y_kmeans2== 2, 1], s = 100, c= 'pink', label = \"Cluster3\")\n",
    "plt.scatter(ratio_no_transformer[y_kmeans2== 3, 0], ratio_no_transformer[y_kmeans2== 3, 1], s = 100, c= 'cyan', label = \"Cluster4\")\n",
    "plt.scatter(ratio_no_transformer[y_kmeans2== 4, 0], ratio_no_transformer[y_kmeans2== 4, 1], s = 100, c= 'purple', label = \"Cluster5\")\n",
    "#plt.scatter(ratio_no[y_kmeans2== 5, 0], ratio_no[y_kmeans2== 5, 1], s = 100, c= 'lightblue', label = \"Cluster5\")\n",
    "\n",
    "\n",
    "plt.scatter(kmeans.cluster_centers_[:,0], kmeans.cluster_centers_[:, 1], s=10, c = 'green', label = 'Centroids')\n",
    "plt.title ('Cluster of countries responding to terrorist events (Normalization)')\n",
    "plt.xlabel('The ratio between successful and unsuccesful incidents')\n",
    "plt.ylabel(\"The number of incidents\")\n",
    "plt.legend()\n",
    "plt.show()"
   ]
  },
  {
   "cell_type": "code",
   "execution_count": 7,
   "metadata": {
    "ExecuteTime": {
     "end_time": "2019-08-14T21:09:15.883495Z",
     "start_time": "2019-08-14T21:09:07.851301Z"
    },
    "code_folding": []
   },
   "outputs": [
    {
     "data": {
      "text/html": [
       "<div>\n",
       "<style scoped>\n",
       "    .dataframe tbody tr th:only-of-type {\n",
       "        vertical-align: middle;\n",
       "    }\n",
       "\n",
       "    .dataframe tbody tr th {\n",
       "        vertical-align: top;\n",
       "    }\n",
       "\n",
       "    .dataframe thead th {\n",
       "        text-align: right;\n",
       "    }\n",
       "</style>\n",
       "<table border=\"1\" class=\"dataframe\">\n",
       "  <thead>\n",
       "    <tr style=\"text-align: right;\">\n",
       "      <th></th>\n",
       "      <th>eventid</th>\n",
       "      <th>iyear</th>\n",
       "      <th>imonth</th>\n",
       "      <th>iday</th>\n",
       "      <th>approxdate</th>\n",
       "      <th>extended</th>\n",
       "      <th>resolution</th>\n",
       "      <th>country</th>\n",
       "      <th>country_txt</th>\n",
       "      <th>region</th>\n",
       "      <th>region_txt</th>\n",
       "      <th>provstate</th>\n",
       "      <th>city</th>\n",
       "      <th>latitude</th>\n",
       "      <th>longitude</th>\n",
       "      <th>specificity</th>\n",
       "      <th>vicinity</th>\n",
       "      <th>location</th>\n",
       "      <th>summary</th>\n",
       "      <th>crit1</th>\n",
       "      <th>crit2</th>\n",
       "      <th>crit3</th>\n",
       "      <th>doubtterr</th>\n",
       "      <th>alternative</th>\n",
       "      <th>alternative_txt</th>\n",
       "      <th>multiple</th>\n",
       "      <th>success</th>\n",
       "      <th>suicide</th>\n",
       "      <th>attacktype1</th>\n",
       "      <th>attacktype1_txt</th>\n",
       "      <th>attacktype2</th>\n",
       "      <th>attacktype2_txt</th>\n",
       "      <th>attacktype3</th>\n",
       "      <th>attacktype3_txt</th>\n",
       "      <th>targtype1</th>\n",
       "      <th>targtype1_txt</th>\n",
       "      <th>targsubtype1</th>\n",
       "      <th>targsubtype1_txt</th>\n",
       "      <th>corp1</th>\n",
       "      <th>target1</th>\n",
       "      <th>natlty1</th>\n",
       "      <th>natlty1_txt</th>\n",
       "      <th>targtype2</th>\n",
       "      <th>targtype2_txt</th>\n",
       "      <th>targsubtype2</th>\n",
       "      <th>targsubtype2_txt</th>\n",
       "      <th>corp2</th>\n",
       "      <th>target2</th>\n",
       "      <th>natlty2</th>\n",
       "      <th>natlty2_txt</th>\n",
       "      <th>targtype3</th>\n",
       "      <th>targtype3_txt</th>\n",
       "      <th>targsubtype3</th>\n",
       "      <th>targsubtype3_txt</th>\n",
       "      <th>corp3</th>\n",
       "      <th>target3</th>\n",
       "      <th>natlty3</th>\n",
       "      <th>natlty3_txt</th>\n",
       "      <th>gname</th>\n",
       "      <th>gsubname</th>\n",
       "      <th>gname2</th>\n",
       "      <th>gsubname2</th>\n",
       "      <th>gname3</th>\n",
       "      <th>gsubname3</th>\n",
       "      <th>motive</th>\n",
       "      <th>guncertain1</th>\n",
       "      <th>guncertain2</th>\n",
       "      <th>guncertain3</th>\n",
       "      <th>individual</th>\n",
       "      <th>nperps</th>\n",
       "      <th>nperpcap</th>\n",
       "      <th>claimed</th>\n",
       "      <th>claimmode</th>\n",
       "      <th>claimmode_txt</th>\n",
       "      <th>claim2</th>\n",
       "      <th>claimmode2</th>\n",
       "      <th>claimmode2_txt</th>\n",
       "      <th>claim3</th>\n",
       "      <th>claimmode3</th>\n",
       "      <th>claimmode3_txt</th>\n",
       "      <th>compclaim</th>\n",
       "      <th>weaptype1</th>\n",
       "      <th>weaptype1_txt</th>\n",
       "      <th>weapsubtype1</th>\n",
       "      <th>weapsubtype1_txt</th>\n",
       "      <th>weaptype2</th>\n",
       "      <th>weaptype2_txt</th>\n",
       "      <th>weapsubtype2</th>\n",
       "      <th>weapsubtype2_txt</th>\n",
       "      <th>weaptype3</th>\n",
       "      <th>weaptype3_txt</th>\n",
       "      <th>weapsubtype3</th>\n",
       "      <th>weapsubtype3_txt</th>\n",
       "      <th>weaptype4</th>\n",
       "      <th>weaptype4_txt</th>\n",
       "      <th>weapsubtype4</th>\n",
       "      <th>weapsubtype4_txt</th>\n",
       "      <th>weapdetail</th>\n",
       "      <th>nkill</th>\n",
       "      <th>nkillus</th>\n",
       "      <th>nkillter</th>\n",
       "      <th>nwound</th>\n",
       "      <th>nwoundus</th>\n",
       "      <th>nwoundte</th>\n",
       "      <th>property</th>\n",
       "      <th>propextent</th>\n",
       "      <th>propextent_txt</th>\n",
       "      <th>propvalue</th>\n",
       "      <th>propcomment</th>\n",
       "      <th>ishostkid</th>\n",
       "      <th>nhostkid</th>\n",
       "      <th>nhostkidus</th>\n",
       "      <th>nhours</th>\n",
       "      <th>ndays</th>\n",
       "      <th>divert</th>\n",
       "      <th>kidhijcountry</th>\n",
       "      <th>ransom</th>\n",
       "      <th>ransomamt</th>\n",
       "      <th>ransomamtus</th>\n",
       "      <th>ransompaid</th>\n",
       "      <th>ransompaidus</th>\n",
       "      <th>ransomnote</th>\n",
       "      <th>hostkidoutcome</th>\n",
       "      <th>hostkidoutcome_txt</th>\n",
       "      <th>nreleased</th>\n",
       "      <th>addnotes</th>\n",
       "      <th>scite1</th>\n",
       "      <th>scite2</th>\n",
       "      <th>scite3</th>\n",
       "      <th>dbsource</th>\n",
       "      <th>INT_LOG</th>\n",
       "      <th>INT_IDEO</th>\n",
       "      <th>INT_MISC</th>\n",
       "      <th>INT_ANY</th>\n",
       "      <th>related</th>\n",
       "      <th>cluster</th>\n",
       "    </tr>\n",
       "  </thead>\n",
       "  <tbody>\n",
       "    <tr>\n",
       "      <th>0</th>\n",
       "      <td>197000000001</td>\n",
       "      <td>1970</td>\n",
       "      <td>7</td>\n",
       "      <td>2</td>\n",
       "      <td>NaN</td>\n",
       "      <td>0</td>\n",
       "      <td>NaT</td>\n",
       "      <td>58</td>\n",
       "      <td>Dominican Republic</td>\n",
       "      <td>2</td>\n",
       "      <td>Central America &amp; Caribbean</td>\n",
       "      <td>NaN</td>\n",
       "      <td>Santo Domingo</td>\n",
       "      <td>18.456792</td>\n",
       "      <td>-69.951164</td>\n",
       "      <td>1.0</td>\n",
       "      <td>0</td>\n",
       "      <td>NaN</td>\n",
       "      <td>NaN</td>\n",
       "      <td>1</td>\n",
       "      <td>1</td>\n",
       "      <td>1</td>\n",
       "      <td>0.0</td>\n",
       "      <td>NaN</td>\n",
       "      <td>NaN</td>\n",
       "      <td>0.0</td>\n",
       "      <td>1</td>\n",
       "      <td>0</td>\n",
       "      <td>1</td>\n",
       "      <td>Assassination</td>\n",
       "      <td>NaN</td>\n",
       "      <td>NaN</td>\n",
       "      <td>NaN</td>\n",
       "      <td>NaN</td>\n",
       "      <td>14</td>\n",
       "      <td>Private Citizens &amp; Property</td>\n",
       "      <td>68.0</td>\n",
       "      <td>Named Civilian</td>\n",
       "      <td>NaN</td>\n",
       "      <td>Julio Guzman</td>\n",
       "      <td>58.0</td>\n",
       "      <td>Dominican Republic</td>\n",
       "      <td>NaN</td>\n",
       "      <td>NaN</td>\n",
       "      <td>NaN</td>\n",
       "      <td>NaN</td>\n",
       "      <td>NaN</td>\n",
       "      <td>NaN</td>\n",
       "      <td>NaN</td>\n",
       "      <td>NaN</td>\n",
       "      <td>NaN</td>\n",
       "      <td>NaN</td>\n",
       "      <td>NaN</td>\n",
       "      <td>NaN</td>\n",
       "      <td>NaN</td>\n",
       "      <td>NaN</td>\n",
       "      <td>NaN</td>\n",
       "      <td>NaN</td>\n",
       "      <td>MANO-D</td>\n",
       "      <td>NaN</td>\n",
       "      <td>NaN</td>\n",
       "      <td>NaN</td>\n",
       "      <td>NaN</td>\n",
       "      <td>NaN</td>\n",
       "      <td>NaN</td>\n",
       "      <td>0.0</td>\n",
       "      <td>NaN</td>\n",
       "      <td>NaN</td>\n",
       "      <td>0</td>\n",
       "      <td>NaN</td>\n",
       "      <td>NaN</td>\n",
       "      <td>NaN</td>\n",
       "      <td>NaN</td>\n",
       "      <td>NaN</td>\n",
       "      <td>NaN</td>\n",
       "      <td>NaN</td>\n",
       "      <td>NaN</td>\n",
       "      <td>NaN</td>\n",
       "      <td>NaN</td>\n",
       "      <td>NaN</td>\n",
       "      <td>NaN</td>\n",
       "      <td>13</td>\n",
       "      <td>Unknown</td>\n",
       "      <td>NaN</td>\n",
       "      <td>NaN</td>\n",
       "      <td>NaN</td>\n",
       "      <td>NaN</td>\n",
       "      <td>NaN</td>\n",
       "      <td>NaN</td>\n",
       "      <td>NaN</td>\n",
       "      <td>NaN</td>\n",
       "      <td>NaN</td>\n",
       "      <td>NaN</td>\n",
       "      <td>NaN</td>\n",
       "      <td>NaN</td>\n",
       "      <td>NaN</td>\n",
       "      <td>NaN</td>\n",
       "      <td>NaN</td>\n",
       "      <td>1.0</td>\n",
       "      <td>NaN</td>\n",
       "      <td>NaN</td>\n",
       "      <td>0.0</td>\n",
       "      <td>NaN</td>\n",
       "      <td>NaN</td>\n",
       "      <td>0</td>\n",
       "      <td>NaN</td>\n",
       "      <td>NaN</td>\n",
       "      <td>NaN</td>\n",
       "      <td>NaN</td>\n",
       "      <td>0.0</td>\n",
       "      <td>NaN</td>\n",
       "      <td>NaN</td>\n",
       "      <td>NaN</td>\n",
       "      <td>NaN</td>\n",
       "      <td>NaN</td>\n",
       "      <td>NaN</td>\n",
       "      <td>0.0</td>\n",
       "      <td>NaN</td>\n",
       "      <td>NaN</td>\n",
       "      <td>NaN</td>\n",
       "      <td>NaN</td>\n",
       "      <td>NaN</td>\n",
       "      <td>NaN</td>\n",
       "      <td>NaN</td>\n",
       "      <td>NaN</td>\n",
       "      <td>NaN</td>\n",
       "      <td>NaN</td>\n",
       "      <td>NaN</td>\n",
       "      <td>NaN</td>\n",
       "      <td>PGIS</td>\n",
       "      <td>0</td>\n",
       "      <td>0</td>\n",
       "      <td>0</td>\n",
       "      <td>0</td>\n",
       "      <td>NaN</td>\n",
       "      <td>3</td>\n",
       "    </tr>\n",
       "    <tr>\n",
       "      <th>1</th>\n",
       "      <td>197003240002</td>\n",
       "      <td>1970</td>\n",
       "      <td>3</td>\n",
       "      <td>24</td>\n",
       "      <td>NaN</td>\n",
       "      <td>1</td>\n",
       "      <td>1970-03-26</td>\n",
       "      <td>58</td>\n",
       "      <td>Dominican Republic</td>\n",
       "      <td>2</td>\n",
       "      <td>Central America &amp; Caribbean</td>\n",
       "      <td>National</td>\n",
       "      <td>Santo Domingo</td>\n",
       "      <td>18.456792</td>\n",
       "      <td>-69.951164</td>\n",
       "      <td>1.0</td>\n",
       "      <td>0</td>\n",
       "      <td>NaN</td>\n",
       "      <td>NaN</td>\n",
       "      <td>1</td>\n",
       "      <td>1</td>\n",
       "      <td>0</td>\n",
       "      <td>1.0</td>\n",
       "      <td>1.0</td>\n",
       "      <td>Insurgency/Guerilla Action</td>\n",
       "      <td>0.0</td>\n",
       "      <td>1</td>\n",
       "      <td>0</td>\n",
       "      <td>6</td>\n",
       "      <td>Hostage Taking (Kidnapping)</td>\n",
       "      <td>NaN</td>\n",
       "      <td>NaN</td>\n",
       "      <td>NaN</td>\n",
       "      <td>NaN</td>\n",
       "      <td>4</td>\n",
       "      <td>Military</td>\n",
       "      <td>34.0</td>\n",
       "      <td>Military Personnel (soldiers, troops, officers...</td>\n",
       "      <td>U.S. Air force</td>\n",
       "      <td>Lt. Col. Donal J. Crowley, U.S. Air attache</td>\n",
       "      <td>217.0</td>\n",
       "      <td>United States</td>\n",
       "      <td>NaN</td>\n",
       "      <td>NaN</td>\n",
       "      <td>NaN</td>\n",
       "      <td>NaN</td>\n",
       "      <td>NaN</td>\n",
       "      <td>NaN</td>\n",
       "      <td>NaN</td>\n",
       "      <td>NaN</td>\n",
       "      <td>NaN</td>\n",
       "      <td>NaN</td>\n",
       "      <td>NaN</td>\n",
       "      <td>NaN</td>\n",
       "      <td>NaN</td>\n",
       "      <td>NaN</td>\n",
       "      <td>NaN</td>\n",
       "      <td>NaN</td>\n",
       "      <td>Dominican Popular Movement (MPD)</td>\n",
       "      <td>NaN</td>\n",
       "      <td>NaN</td>\n",
       "      <td>NaN</td>\n",
       "      <td>NaN</td>\n",
       "      <td>NaN</td>\n",
       "      <td>NaN</td>\n",
       "      <td>0.0</td>\n",
       "      <td>NaN</td>\n",
       "      <td>NaN</td>\n",
       "      <td>0</td>\n",
       "      <td>5.0</td>\n",
       "      <td>NaN</td>\n",
       "      <td>NaN</td>\n",
       "      <td>NaN</td>\n",
       "      <td>NaN</td>\n",
       "      <td>NaN</td>\n",
       "      <td>NaN</td>\n",
       "      <td>NaN</td>\n",
       "      <td>NaN</td>\n",
       "      <td>NaN</td>\n",
       "      <td>NaN</td>\n",
       "      <td>NaN</td>\n",
       "      <td>13</td>\n",
       "      <td>Unknown</td>\n",
       "      <td>NaN</td>\n",
       "      <td>NaN</td>\n",
       "      <td>NaN</td>\n",
       "      <td>NaN</td>\n",
       "      <td>NaN</td>\n",
       "      <td>NaN</td>\n",
       "      <td>NaN</td>\n",
       "      <td>NaN</td>\n",
       "      <td>NaN</td>\n",
       "      <td>NaN</td>\n",
       "      <td>NaN</td>\n",
       "      <td>NaN</td>\n",
       "      <td>NaN</td>\n",
       "      <td>NaN</td>\n",
       "      <td>NaN</td>\n",
       "      <td>0.0</td>\n",
       "      <td>NaN</td>\n",
       "      <td>NaN</td>\n",
       "      <td>0.0</td>\n",
       "      <td>NaN</td>\n",
       "      <td>NaN</td>\n",
       "      <td>0</td>\n",
       "      <td>NaN</td>\n",
       "      <td>NaN</td>\n",
       "      <td>NaN</td>\n",
       "      <td>NaN</td>\n",
       "      <td>1.0</td>\n",
       "      <td>1.0</td>\n",
       "      <td>1.0</td>\n",
       "      <td>0.0</td>\n",
       "      <td>2.0</td>\n",
       "      <td>NaN</td>\n",
       "      <td>Dominican Republic</td>\n",
       "      <td>1.0</td>\n",
       "      <td>0.0</td>\n",
       "      <td>NaN</td>\n",
       "      <td>NaN</td>\n",
       "      <td>NaN</td>\n",
       "      <td>NaN</td>\n",
       "      <td>2.0</td>\n",
       "      <td>Hostage(s) released by perpetrators</td>\n",
       "      <td>1.0</td>\n",
       "      <td>NaN</td>\n",
       "      <td>NaN</td>\n",
       "      <td>NaN</td>\n",
       "      <td>NaN</td>\n",
       "      <td>PGIS</td>\n",
       "      <td>0</td>\n",
       "      <td>1</td>\n",
       "      <td>1</td>\n",
       "      <td>1</td>\n",
       "      <td>NaN</td>\n",
       "      <td>3</td>\n",
       "    </tr>\n",
       "    <tr>\n",
       "      <th>2</th>\n",
       "      <td>197101280001</td>\n",
       "      <td>1971</td>\n",
       "      <td>1</td>\n",
       "      <td>28</td>\n",
       "      <td>NaN</td>\n",
       "      <td>0</td>\n",
       "      <td>NaT</td>\n",
       "      <td>58</td>\n",
       "      <td>Dominican Republic</td>\n",
       "      <td>2</td>\n",
       "      <td>Central America &amp; Caribbean</td>\n",
       "      <td>National</td>\n",
       "      <td>Santo Domingo</td>\n",
       "      <td>18.456792</td>\n",
       "      <td>-69.951164</td>\n",
       "      <td>1.0</td>\n",
       "      <td>0</td>\n",
       "      <td>NaN</td>\n",
       "      <td>NaN</td>\n",
       "      <td>1</td>\n",
       "      <td>1</td>\n",
       "      <td>1</td>\n",
       "      <td>0.0</td>\n",
       "      <td>NaN</td>\n",
       "      <td>NaN</td>\n",
       "      <td>0.0</td>\n",
       "      <td>1</td>\n",
       "      <td>0</td>\n",
       "      <td>2</td>\n",
       "      <td>Armed Assault</td>\n",
       "      <td>NaN</td>\n",
       "      <td>NaN</td>\n",
       "      <td>NaN</td>\n",
       "      <td>NaN</td>\n",
       "      <td>8</td>\n",
       "      <td>Educational Institution</td>\n",
       "      <td>49.0</td>\n",
       "      <td>School/University/Educational Building</td>\n",
       "      <td>NaN</td>\n",
       "      <td>High School</td>\n",
       "      <td>58.0</td>\n",
       "      <td>Dominican Republic</td>\n",
       "      <td>NaN</td>\n",
       "      <td>NaN</td>\n",
       "      <td>NaN</td>\n",
       "      <td>NaN</td>\n",
       "      <td>NaN</td>\n",
       "      <td>NaN</td>\n",
       "      <td>NaN</td>\n",
       "      <td>NaN</td>\n",
       "      <td>NaN</td>\n",
       "      <td>NaN</td>\n",
       "      <td>NaN</td>\n",
       "      <td>NaN</td>\n",
       "      <td>NaN</td>\n",
       "      <td>NaN</td>\n",
       "      <td>NaN</td>\n",
       "      <td>NaN</td>\n",
       "      <td>Tony El Pelou Band</td>\n",
       "      <td>NaN</td>\n",
       "      <td>NaN</td>\n",
       "      <td>NaN</td>\n",
       "      <td>NaN</td>\n",
       "      <td>NaN</td>\n",
       "      <td>NaN</td>\n",
       "      <td>0.0</td>\n",
       "      <td>NaN</td>\n",
       "      <td>NaN</td>\n",
       "      <td>0</td>\n",
       "      <td>8.0</td>\n",
       "      <td>NaN</td>\n",
       "      <td>NaN</td>\n",
       "      <td>NaN</td>\n",
       "      <td>NaN</td>\n",
       "      <td>NaN</td>\n",
       "      <td>NaN</td>\n",
       "      <td>NaN</td>\n",
       "      <td>NaN</td>\n",
       "      <td>NaN</td>\n",
       "      <td>NaN</td>\n",
       "      <td>NaN</td>\n",
       "      <td>5</td>\n",
       "      <td>Firearms</td>\n",
       "      <td>2.0</td>\n",
       "      <td>Automatic or Semi-Automatic Rifle</td>\n",
       "      <td>5.0</td>\n",
       "      <td>Firearms</td>\n",
       "      <td>3.0</td>\n",
       "      <td>Handgun</td>\n",
       "      <td>5.0</td>\n",
       "      <td>Firearms</td>\n",
       "      <td>2.0</td>\n",
       "      <td>Automatic or Semi-Automatic Rifle</td>\n",
       "      <td>NaN</td>\n",
       "      <td>NaN</td>\n",
       "      <td>NaN</td>\n",
       "      <td>NaN</td>\n",
       "      <td>Automatic firearm; Pistols; Automatic firearms...</td>\n",
       "      <td>0.0</td>\n",
       "      <td>NaN</td>\n",
       "      <td>NaN</td>\n",
       "      <td>0.0</td>\n",
       "      <td>NaN</td>\n",
       "      <td>NaN</td>\n",
       "      <td>1</td>\n",
       "      <td>4.0</td>\n",
       "      <td>Unknown</td>\n",
       "      <td>NaN</td>\n",
       "      <td>NaN</td>\n",
       "      <td>0.0</td>\n",
       "      <td>NaN</td>\n",
       "      <td>NaN</td>\n",
       "      <td>NaN</td>\n",
       "      <td>NaN</td>\n",
       "      <td>NaN</td>\n",
       "      <td>NaN</td>\n",
       "      <td>0.0</td>\n",
       "      <td>NaN</td>\n",
       "      <td>NaN</td>\n",
       "      <td>NaN</td>\n",
       "      <td>NaN</td>\n",
       "      <td>NaN</td>\n",
       "      <td>NaN</td>\n",
       "      <td>NaN</td>\n",
       "      <td>NaN</td>\n",
       "      <td>NaN</td>\n",
       "      <td>NaN</td>\n",
       "      <td>NaN</td>\n",
       "      <td>NaN</td>\n",
       "      <td>PGIS</td>\n",
       "      <td>0</td>\n",
       "      <td>0</td>\n",
       "      <td>0</td>\n",
       "      <td>0</td>\n",
       "      <td>NaN</td>\n",
       "      <td>3</td>\n",
       "    </tr>\n",
       "    <tr>\n",
       "      <th>3</th>\n",
       "      <td>197101280002</td>\n",
       "      <td>1971</td>\n",
       "      <td>1</td>\n",
       "      <td>28</td>\n",
       "      <td>NaN</td>\n",
       "      <td>0</td>\n",
       "      <td>NaT</td>\n",
       "      <td>58</td>\n",
       "      <td>Dominican Republic</td>\n",
       "      <td>2</td>\n",
       "      <td>Central America &amp; Caribbean</td>\n",
       "      <td>National</td>\n",
       "      <td>Santo Domingo</td>\n",
       "      <td>18.456792</td>\n",
       "      <td>-69.951164</td>\n",
       "      <td>1.0</td>\n",
       "      <td>0</td>\n",
       "      <td>NaN</td>\n",
       "      <td>NaN</td>\n",
       "      <td>1</td>\n",
       "      <td>1</td>\n",
       "      <td>1</td>\n",
       "      <td>0.0</td>\n",
       "      <td>NaN</td>\n",
       "      <td>NaN</td>\n",
       "      <td>0.0</td>\n",
       "      <td>1</td>\n",
       "      <td>0</td>\n",
       "      <td>2</td>\n",
       "      <td>Armed Assault</td>\n",
       "      <td>NaN</td>\n",
       "      <td>NaN</td>\n",
       "      <td>NaN</td>\n",
       "      <td>NaN</td>\n",
       "      <td>10</td>\n",
       "      <td>Journalists &amp; Media</td>\n",
       "      <td>54.0</td>\n",
       "      <td>Radio Journalist/Staff/Facility</td>\n",
       "      <td>NaN</td>\n",
       "      <td>Radio Cristal</td>\n",
       "      <td>58.0</td>\n",
       "      <td>Dominican Republic</td>\n",
       "      <td>NaN</td>\n",
       "      <td>NaN</td>\n",
       "      <td>NaN</td>\n",
       "      <td>NaN</td>\n",
       "      <td>NaN</td>\n",
       "      <td>NaN</td>\n",
       "      <td>NaN</td>\n",
       "      <td>NaN</td>\n",
       "      <td>NaN</td>\n",
       "      <td>NaN</td>\n",
       "      <td>NaN</td>\n",
       "      <td>NaN</td>\n",
       "      <td>NaN</td>\n",
       "      <td>NaN</td>\n",
       "      <td>NaN</td>\n",
       "      <td>NaN</td>\n",
       "      <td>Tony El Pelou Band</td>\n",
       "      <td>NaN</td>\n",
       "      <td>NaN</td>\n",
       "      <td>NaN</td>\n",
       "      <td>NaN</td>\n",
       "      <td>NaN</td>\n",
       "      <td>NaN</td>\n",
       "      <td>0.0</td>\n",
       "      <td>NaN</td>\n",
       "      <td>NaN</td>\n",
       "      <td>0</td>\n",
       "      <td>8.0</td>\n",
       "      <td>NaN</td>\n",
       "      <td>NaN</td>\n",
       "      <td>NaN</td>\n",
       "      <td>NaN</td>\n",
       "      <td>NaN</td>\n",
       "      <td>NaN</td>\n",
       "      <td>NaN</td>\n",
       "      <td>NaN</td>\n",
       "      <td>NaN</td>\n",
       "      <td>NaN</td>\n",
       "      <td>NaN</td>\n",
       "      <td>5</td>\n",
       "      <td>Firearms</td>\n",
       "      <td>2.0</td>\n",
       "      <td>Automatic or Semi-Automatic Rifle</td>\n",
       "      <td>NaN</td>\n",
       "      <td>NaN</td>\n",
       "      <td>NaN</td>\n",
       "      <td>NaN</td>\n",
       "      <td>NaN</td>\n",
       "      <td>NaN</td>\n",
       "      <td>NaN</td>\n",
       "      <td>NaN</td>\n",
       "      <td>NaN</td>\n",
       "      <td>NaN</td>\n",
       "      <td>NaN</td>\n",
       "      <td>NaN</td>\n",
       "      <td>Automatic firearm</td>\n",
       "      <td>0.0</td>\n",
       "      <td>NaN</td>\n",
       "      <td>NaN</td>\n",
       "      <td>0.0</td>\n",
       "      <td>NaN</td>\n",
       "      <td>NaN</td>\n",
       "      <td>1</td>\n",
       "      <td>4.0</td>\n",
       "      <td>Unknown</td>\n",
       "      <td>NaN</td>\n",
       "      <td>NaN</td>\n",
       "      <td>0.0</td>\n",
       "      <td>NaN</td>\n",
       "      <td>NaN</td>\n",
       "      <td>NaN</td>\n",
       "      <td>NaN</td>\n",
       "      <td>NaN</td>\n",
       "      <td>NaN</td>\n",
       "      <td>0.0</td>\n",
       "      <td>NaN</td>\n",
       "      <td>NaN</td>\n",
       "      <td>NaN</td>\n",
       "      <td>NaN</td>\n",
       "      <td>NaN</td>\n",
       "      <td>NaN</td>\n",
       "      <td>NaN</td>\n",
       "      <td>NaN</td>\n",
       "      <td>NaN</td>\n",
       "      <td>NaN</td>\n",
       "      <td>NaN</td>\n",
       "      <td>NaN</td>\n",
       "      <td>PGIS</td>\n",
       "      <td>0</td>\n",
       "      <td>0</td>\n",
       "      <td>0</td>\n",
       "      <td>0</td>\n",
       "      <td>NaN</td>\n",
       "      <td>3</td>\n",
       "    </tr>\n",
       "    <tr>\n",
       "      <th>4</th>\n",
       "      <td>197105110001</td>\n",
       "      <td>1971</td>\n",
       "      <td>5</td>\n",
       "      <td>11</td>\n",
       "      <td>NaN</td>\n",
       "      <td>0</td>\n",
       "      <td>NaT</td>\n",
       "      <td>58</td>\n",
       "      <td>Dominican Republic</td>\n",
       "      <td>2</td>\n",
       "      <td>Central America &amp; Caribbean</td>\n",
       "      <td>National</td>\n",
       "      <td>Santo Domingo</td>\n",
       "      <td>18.456792</td>\n",
       "      <td>-69.951164</td>\n",
       "      <td>1.0</td>\n",
       "      <td>0</td>\n",
       "      <td>NaN</td>\n",
       "      <td>NaN</td>\n",
       "      <td>1</td>\n",
       "      <td>1</td>\n",
       "      <td>1</td>\n",
       "      <td>0.0</td>\n",
       "      <td>NaN</td>\n",
       "      <td>NaN</td>\n",
       "      <td>0.0</td>\n",
       "      <td>0</td>\n",
       "      <td>0</td>\n",
       "      <td>1</td>\n",
       "      <td>Assassination</td>\n",
       "      <td>NaN</td>\n",
       "      <td>NaN</td>\n",
       "      <td>NaN</td>\n",
       "      <td>NaN</td>\n",
       "      <td>2</td>\n",
       "      <td>Government (General)</td>\n",
       "      <td>15.0</td>\n",
       "      <td>Politician or Political Party Movement/Meeting...</td>\n",
       "      <td>Revolutionary Social Christian Party</td>\n",
       "      <td>Presidential Candidate, Alfonso Moreno Martinez</td>\n",
       "      <td>58.0</td>\n",
       "      <td>Dominican Republic</td>\n",
       "      <td>NaN</td>\n",
       "      <td>NaN</td>\n",
       "      <td>NaN</td>\n",
       "      <td>NaN</td>\n",
       "      <td>NaN</td>\n",
       "      <td>NaN</td>\n",
       "      <td>NaN</td>\n",
       "      <td>NaN</td>\n",
       "      <td>NaN</td>\n",
       "      <td>NaN</td>\n",
       "      <td>NaN</td>\n",
       "      <td>NaN</td>\n",
       "      <td>NaN</td>\n",
       "      <td>NaN</td>\n",
       "      <td>NaN</td>\n",
       "      <td>NaN</td>\n",
       "      <td>Unknown</td>\n",
       "      <td>NaN</td>\n",
       "      <td>NaN</td>\n",
       "      <td>NaN</td>\n",
       "      <td>NaN</td>\n",
       "      <td>NaN</td>\n",
       "      <td>NaN</td>\n",
       "      <td>0.0</td>\n",
       "      <td>NaN</td>\n",
       "      <td>NaN</td>\n",
       "      <td>0</td>\n",
       "      <td>NaN</td>\n",
       "      <td>NaN</td>\n",
       "      <td>NaN</td>\n",
       "      <td>NaN</td>\n",
       "      <td>NaN</td>\n",
       "      <td>NaN</td>\n",
       "      <td>NaN</td>\n",
       "      <td>NaN</td>\n",
       "      <td>NaN</td>\n",
       "      <td>NaN</td>\n",
       "      <td>NaN</td>\n",
       "      <td>NaN</td>\n",
       "      <td>6</td>\n",
       "      <td>Explosives</td>\n",
       "      <td>16.0</td>\n",
       "      <td>Unknown Explosive Type</td>\n",
       "      <td>NaN</td>\n",
       "      <td>NaN</td>\n",
       "      <td>NaN</td>\n",
       "      <td>NaN</td>\n",
       "      <td>NaN</td>\n",
       "      <td>NaN</td>\n",
       "      <td>NaN</td>\n",
       "      <td>NaN</td>\n",
       "      <td>NaN</td>\n",
       "      <td>NaN</td>\n",
       "      <td>NaN</td>\n",
       "      <td>NaN</td>\n",
       "      <td>Explosive</td>\n",
       "      <td>0.0</td>\n",
       "      <td>NaN</td>\n",
       "      <td>NaN</td>\n",
       "      <td>0.0</td>\n",
       "      <td>NaN</td>\n",
       "      <td>NaN</td>\n",
       "      <td>0</td>\n",
       "      <td>NaN</td>\n",
       "      <td>NaN</td>\n",
       "      <td>NaN</td>\n",
       "      <td>NaN</td>\n",
       "      <td>0.0</td>\n",
       "      <td>NaN</td>\n",
       "      <td>NaN</td>\n",
       "      <td>NaN</td>\n",
       "      <td>NaN</td>\n",
       "      <td>NaN</td>\n",
       "      <td>NaN</td>\n",
       "      <td>0.0</td>\n",
       "      <td>NaN</td>\n",
       "      <td>NaN</td>\n",
       "      <td>NaN</td>\n",
       "      <td>NaN</td>\n",
       "      <td>NaN</td>\n",
       "      <td>NaN</td>\n",
       "      <td>NaN</td>\n",
       "      <td>NaN</td>\n",
       "      <td>NaN</td>\n",
       "      <td>NaN</td>\n",
       "      <td>NaN</td>\n",
       "      <td>NaN</td>\n",
       "      <td>PGIS</td>\n",
       "      <td>-9</td>\n",
       "      <td>-9</td>\n",
       "      <td>0</td>\n",
       "      <td>-9</td>\n",
       "      <td>NaN</td>\n",
       "      <td>3</td>\n",
       "    </tr>\n",
       "  </tbody>\n",
       "</table>\n",
       "</div>"
      ],
      "text/plain": [
       "        eventid  iyear  imonth  iday approxdate  extended resolution country  \\\n",
       "0  197000000001   1970       7     2        NaN         0        NaT      58   \n",
       "1  197003240002   1970       3    24        NaN         1 1970-03-26      58   \n",
       "2  197101280001   1971       1    28        NaN         0        NaT      58   \n",
       "3  197101280002   1971       1    28        NaN         0        NaT      58   \n",
       "4  197105110001   1971       5    11        NaN         0        NaT      58   \n",
       "\n",
       "          country_txt  region                   region_txt provstate  \\\n",
       "0  Dominican Republic       2  Central America & Caribbean       NaN   \n",
       "1  Dominican Republic       2  Central America & Caribbean  National   \n",
       "2  Dominican Republic       2  Central America & Caribbean  National   \n",
       "3  Dominican Republic       2  Central America & Caribbean  National   \n",
       "4  Dominican Republic       2  Central America & Caribbean  National   \n",
       "\n",
       "            city   latitude  longitude  specificity  vicinity location  \\\n",
       "0  Santo Domingo  18.456792 -69.951164          1.0         0      NaN   \n",
       "1  Santo Domingo  18.456792 -69.951164          1.0         0      NaN   \n",
       "2  Santo Domingo  18.456792 -69.951164          1.0         0      NaN   \n",
       "3  Santo Domingo  18.456792 -69.951164          1.0         0      NaN   \n",
       "4  Santo Domingo  18.456792 -69.951164          1.0         0      NaN   \n",
       "\n",
       "  summary  crit1  crit2  crit3  doubtterr  alternative  \\\n",
       "0     NaN      1      1      1        0.0          NaN   \n",
       "1     NaN      1      1      0        1.0          1.0   \n",
       "2     NaN      1      1      1        0.0          NaN   \n",
       "3     NaN      1      1      1        0.0          NaN   \n",
       "4     NaN      1      1      1        0.0          NaN   \n",
       "\n",
       "              alternative_txt  multiple  success  suicide  attacktype1  \\\n",
       "0                         NaN       0.0        1        0            1   \n",
       "1  Insurgency/Guerilla Action       0.0        1        0            6   \n",
       "2                         NaN       0.0        1        0            2   \n",
       "3                         NaN       0.0        1        0            2   \n",
       "4                         NaN       0.0        0        0            1   \n",
       "\n",
       "               attacktype1_txt  attacktype2 attacktype2_txt  attacktype3  \\\n",
       "0                Assassination          NaN             NaN          NaN   \n",
       "1  Hostage Taking (Kidnapping)          NaN             NaN          NaN   \n",
       "2                Armed Assault          NaN             NaN          NaN   \n",
       "3                Armed Assault          NaN             NaN          NaN   \n",
       "4                Assassination          NaN             NaN          NaN   \n",
       "\n",
       "  attacktype3_txt  targtype1                targtype1_txt  targsubtype1  \\\n",
       "0             NaN         14  Private Citizens & Property          68.0   \n",
       "1             NaN          4                     Military          34.0   \n",
       "2             NaN          8      Educational Institution          49.0   \n",
       "3             NaN         10          Journalists & Media          54.0   \n",
       "4             NaN          2         Government (General)          15.0   \n",
       "\n",
       "                                    targsubtype1_txt  \\\n",
       "0                                     Named Civilian   \n",
       "1  Military Personnel (soldiers, troops, officers...   \n",
       "2             School/University/Educational Building   \n",
       "3                    Radio Journalist/Staff/Facility   \n",
       "4  Politician or Political Party Movement/Meeting...   \n",
       "\n",
       "                                  corp1  \\\n",
       "0                                   NaN   \n",
       "1                        U.S. Air force   \n",
       "2                                   NaN   \n",
       "3                                   NaN   \n",
       "4  Revolutionary Social Christian Party   \n",
       "\n",
       "                                           target1  natlty1  \\\n",
       "0                                     Julio Guzman     58.0   \n",
       "1      Lt. Col. Donal J. Crowley, U.S. Air attache    217.0   \n",
       "2                                      High School     58.0   \n",
       "3                                    Radio Cristal     58.0   \n",
       "4  Presidential Candidate, Alfonso Moreno Martinez     58.0   \n",
       "\n",
       "          natlty1_txt  targtype2 targtype2_txt  targsubtype2 targsubtype2_txt  \\\n",
       "0  Dominican Republic        NaN           NaN           NaN              NaN   \n",
       "1       United States        NaN           NaN           NaN              NaN   \n",
       "2  Dominican Republic        NaN           NaN           NaN              NaN   \n",
       "3  Dominican Republic        NaN           NaN           NaN              NaN   \n",
       "4  Dominican Republic        NaN           NaN           NaN              NaN   \n",
       "\n",
       "  corp2 target2  natlty2 natlty2_txt  targtype3 targtype3_txt  targsubtype3  \\\n",
       "0   NaN     NaN      NaN         NaN        NaN           NaN           NaN   \n",
       "1   NaN     NaN      NaN         NaN        NaN           NaN           NaN   \n",
       "2   NaN     NaN      NaN         NaN        NaN           NaN           NaN   \n",
       "3   NaN     NaN      NaN         NaN        NaN           NaN           NaN   \n",
       "4   NaN     NaN      NaN         NaN        NaN           NaN           NaN   \n",
       "\n",
       "  targsubtype3_txt corp3 target3  natlty3 natlty3_txt  \\\n",
       "0              NaN   NaN     NaN      NaN         NaN   \n",
       "1              NaN   NaN     NaN      NaN         NaN   \n",
       "2              NaN   NaN     NaN      NaN         NaN   \n",
       "3              NaN   NaN     NaN      NaN         NaN   \n",
       "4              NaN   NaN     NaN      NaN         NaN   \n",
       "\n",
       "                              gname gsubname gname2 gsubname2 gname3  \\\n",
       "0                            MANO-D      NaN    NaN       NaN    NaN   \n",
       "1  Dominican Popular Movement (MPD)      NaN    NaN       NaN    NaN   \n",
       "2                Tony El Pelou Band      NaN    NaN       NaN    NaN   \n",
       "3                Tony El Pelou Band      NaN    NaN       NaN    NaN   \n",
       "4                           Unknown      NaN    NaN       NaN    NaN   \n",
       "\n",
       "  gsubname3 motive  guncertain1  guncertain2  guncertain3  individual  nperps  \\\n",
       "0       NaN    NaN          0.0          NaN          NaN           0     NaN   \n",
       "1       NaN    NaN          0.0          NaN          NaN           0     5.0   \n",
       "2       NaN    NaN          0.0          NaN          NaN           0     8.0   \n",
       "3       NaN    NaN          0.0          NaN          NaN           0     8.0   \n",
       "4       NaN    NaN          0.0          NaN          NaN           0     NaN   \n",
       "\n",
       "   nperpcap  claimed  claimmode claimmode_txt  claim2  claimmode2  \\\n",
       "0       NaN      NaN        NaN           NaN     NaN         NaN   \n",
       "1       NaN      NaN        NaN           NaN     NaN         NaN   \n",
       "2       NaN      NaN        NaN           NaN     NaN         NaN   \n",
       "3       NaN      NaN        NaN           NaN     NaN         NaN   \n",
       "4       NaN      NaN        NaN           NaN     NaN         NaN   \n",
       "\n",
       "  claimmode2_txt  claim3  claimmode3 claimmode3_txt  compclaim  weaptype1  \\\n",
       "0            NaN     NaN         NaN            NaN        NaN         13   \n",
       "1            NaN     NaN         NaN            NaN        NaN         13   \n",
       "2            NaN     NaN         NaN            NaN        NaN          5   \n",
       "3            NaN     NaN         NaN            NaN        NaN          5   \n",
       "4            NaN     NaN         NaN            NaN        NaN          6   \n",
       "\n",
       "  weaptype1_txt  weapsubtype1                   weapsubtype1_txt  weaptype2  \\\n",
       "0       Unknown           NaN                                NaN        NaN   \n",
       "1       Unknown           NaN                                NaN        NaN   \n",
       "2      Firearms           2.0  Automatic or Semi-Automatic Rifle        5.0   \n",
       "3      Firearms           2.0  Automatic or Semi-Automatic Rifle        NaN   \n",
       "4    Explosives          16.0             Unknown Explosive Type        NaN   \n",
       "\n",
       "  weaptype2_txt  weapsubtype2 weapsubtype2_txt  weaptype3 weaptype3_txt  \\\n",
       "0           NaN           NaN              NaN        NaN           NaN   \n",
       "1           NaN           NaN              NaN        NaN           NaN   \n",
       "2      Firearms           3.0          Handgun        5.0      Firearms   \n",
       "3           NaN           NaN              NaN        NaN           NaN   \n",
       "4           NaN           NaN              NaN        NaN           NaN   \n",
       "\n",
       "   weapsubtype3                   weapsubtype3_txt  weaptype4 weaptype4_txt  \\\n",
       "0           NaN                                NaN        NaN           NaN   \n",
       "1           NaN                                NaN        NaN           NaN   \n",
       "2           2.0  Automatic or Semi-Automatic Rifle        NaN           NaN   \n",
       "3           NaN                                NaN        NaN           NaN   \n",
       "4           NaN                                NaN        NaN           NaN   \n",
       "\n",
       "   weapsubtype4 weapsubtype4_txt  \\\n",
       "0           NaN              NaN   \n",
       "1           NaN              NaN   \n",
       "2           NaN              NaN   \n",
       "3           NaN              NaN   \n",
       "4           NaN              NaN   \n",
       "\n",
       "                                          weapdetail  nkill  nkillus  \\\n",
       "0                                                NaN    1.0      NaN   \n",
       "1                                                NaN    0.0      NaN   \n",
       "2  Automatic firearm; Pistols; Automatic firearms...    0.0      NaN   \n",
       "3                                  Automatic firearm    0.0      NaN   \n",
       "4                                          Explosive    0.0      NaN   \n",
       "\n",
       "   nkillter  nwound  nwoundus  nwoundte  property  propextent propextent_txt  \\\n",
       "0       NaN     0.0       NaN       NaN         0         NaN            NaN   \n",
       "1       NaN     0.0       NaN       NaN         0         NaN            NaN   \n",
       "2       NaN     0.0       NaN       NaN         1         4.0        Unknown   \n",
       "3       NaN     0.0       NaN       NaN         1         4.0        Unknown   \n",
       "4       NaN     0.0       NaN       NaN         0         NaN            NaN   \n",
       "\n",
       "   propvalue propcomment  ishostkid  nhostkid  nhostkidus  nhours  ndays  \\\n",
       "0        NaN         NaN        0.0       NaN         NaN     NaN    NaN   \n",
       "1        NaN         NaN        1.0       1.0         1.0     0.0    2.0   \n",
       "2        NaN         NaN        0.0       NaN         NaN     NaN    NaN   \n",
       "3        NaN         NaN        0.0       NaN         NaN     NaN    NaN   \n",
       "4        NaN         NaN        0.0       NaN         NaN     NaN    NaN   \n",
       "\n",
       "  divert       kidhijcountry  ransom  ransomamt  ransomamtus  ransompaid  \\\n",
       "0    NaN                 NaN     0.0        NaN          NaN         NaN   \n",
       "1    NaN  Dominican Republic     1.0        0.0          NaN         NaN   \n",
       "2    NaN                 NaN     0.0        NaN          NaN         NaN   \n",
       "3    NaN                 NaN     0.0        NaN          NaN         NaN   \n",
       "4    NaN                 NaN     0.0        NaN          NaN         NaN   \n",
       "\n",
       "   ransompaidus ransomnote  hostkidoutcome  \\\n",
       "0           NaN        NaN             NaN   \n",
       "1           NaN        NaN             2.0   \n",
       "2           NaN        NaN             NaN   \n",
       "3           NaN        NaN             NaN   \n",
       "4           NaN        NaN             NaN   \n",
       "\n",
       "                    hostkidoutcome_txt  nreleased addnotes scite1 scite2  \\\n",
       "0                                  NaN        NaN      NaN    NaN    NaN   \n",
       "1  Hostage(s) released by perpetrators        1.0      NaN    NaN    NaN   \n",
       "2                                  NaN        NaN      NaN    NaN    NaN   \n",
       "3                                  NaN        NaN      NaN    NaN    NaN   \n",
       "4                                  NaN        NaN      NaN    NaN    NaN   \n",
       "\n",
       "  scite3 dbsource  INT_LOG  INT_IDEO  INT_MISC  INT_ANY related  cluster  \n",
       "0    NaN     PGIS        0         0         0        0     NaN        3  \n",
       "1    NaN     PGIS        0         1         1        1     NaN        3  \n",
       "2    NaN     PGIS        0         0         0        0     NaN        3  \n",
       "3    NaN     PGIS        0         0         0        0     NaN        3  \n",
       "4    NaN     PGIS       -9        -9         0       -9     NaN        3  "
      ]
     },
     "execution_count": 7,
     "metadata": {},
     "output_type": "execute_result"
    }
   ],
   "source": [
    "# prepare the country_index\n",
    "country_countryTXT = pd.DataFrame(data=np.column_stack((df.country, df.country_txt)), columns =['country', 'country_txt'])\n",
    "country_countryTXT = country_countryTXT.drop_duplicates()\n",
    "\n",
    "# sort countries based on country_txt\n",
    "country_countryTXT = country_countryTXT.sort_values(by='country')\n",
    "country_countryTXT = country_countryTXT.reset_index(drop=True)\n",
    "\n",
    "# add cluster for countries\n",
    "country_countryTXT['cluster'] = y_kmeans2\n",
    "\n",
    "# drop columns txt\n",
    "country_countryTXT= country_countryTXT.drop(columns='country_txt')\n",
    "\n",
    "# merge two dataframe together\n",
    "df_cluster = pd.merge(df, country_countryTXT, how='inner', on = 'country')\n",
    "#for index, eachRow in df.iterrows():\n",
    "#    for indexCountry, eachCountry in bcountry_countryTXT.iterrows():\n",
    "        \n",
    "#        if eachRow['country'] == eachCountry['country']:\n",
    "#            #print (eachRow['cluster_country'], y_kmeans2[indexCountry],eachRow['country'] )\n",
    "#            df['cluster_country'][index] = y_kmeans2[indexCountry]\n",
    "\n",
    "df_cluster.head()"
   ]
  },
  {
   "cell_type": "code",
   "execution_count": 32,
   "metadata": {
    "ExecuteTime": {
     "end_time": "2019-08-14T19:35:14.131626Z",
     "start_time": "2019-08-14T19:35:14.121269Z"
    },
    "scrolled": false
   },
   "outputs": [
    {
     "data": {
      "text/plain": [
       "eventid                        int64\n",
       "iyear                          int64\n",
       "imonth                         int64\n",
       "iday                           int64\n",
       "approxdate                    object\n",
       "extended                       int64\n",
       "resolution            datetime64[ns]\n",
       "country                       object\n",
       "country_txt                   object\n",
       "region                         int64\n",
       "region_txt                    object\n",
       "provstate                     object\n",
       "city                          object\n",
       "latitude                     float64\n",
       "longitude                    float64\n",
       "specificity                  float64\n",
       "vicinity                       int64\n",
       "location                      object\n",
       "summary                       object\n",
       "crit1                          int64\n",
       "crit2                          int64\n",
       "crit3                          int64\n",
       "doubtterr                    float64\n",
       "alternative                  float64\n",
       "alternative_txt               object\n",
       "multiple                     float64\n",
       "success                        int64\n",
       "suicide                        int64\n",
       "attacktype1                    int64\n",
       "attacktype1_txt               object\n",
       "attacktype2                  float64\n",
       "attacktype2_txt               object\n",
       "attacktype3                  float64\n",
       "attacktype3_txt               object\n",
       "targtype1                      int64\n",
       "targtype1_txt                 object\n",
       "targsubtype1                 float64\n",
       "targsubtype1_txt              object\n",
       "corp1                         object\n",
       "target1                       object\n",
       "natlty1                      float64\n",
       "natlty1_txt                   object\n",
       "targtype2                    float64\n",
       "targtype2_txt                 object\n",
       "targsubtype2                 float64\n",
       "targsubtype2_txt              object\n",
       "corp2                         object\n",
       "target2                       object\n",
       "natlty2                      float64\n",
       "natlty2_txt                   object\n",
       "targtype3                    float64\n",
       "targtype3_txt                 object\n",
       "targsubtype3                 float64\n",
       "targsubtype3_txt              object\n",
       "corp3                         object\n",
       "target3                       object\n",
       "natlty3                      float64\n",
       "natlty3_txt                   object\n",
       "gname                         object\n",
       "gsubname                      object\n",
       "gname2                        object\n",
       "gsubname2                     object\n",
       "gname3                        object\n",
       "gsubname3                     object\n",
       "motive                        object\n",
       "guncertain1                  float64\n",
       "guncertain2                  float64\n",
       "guncertain3                  float64\n",
       "individual                     int64\n",
       "nperps                       float64\n",
       "nperpcap                     float64\n",
       "claimed                      float64\n",
       "claimmode                    float64\n",
       "claimmode_txt                 object\n",
       "claim2                       float64\n",
       "claimmode2                   float64\n",
       "claimmode2_txt                object\n",
       "claim3                       float64\n",
       "claimmode3                   float64\n",
       "claimmode3_txt                object\n",
       "compclaim                    float64\n",
       "weaptype1                      int64\n",
       "weaptype1_txt                 object\n",
       "weapsubtype1                 float64\n",
       "weapsubtype1_txt              object\n",
       "weaptype2                    float64\n",
       "weaptype2_txt                 object\n",
       "weapsubtype2                 float64\n",
       "weapsubtype2_txt              object\n",
       "weaptype3                    float64\n",
       "weaptype3_txt                 object\n",
       "weapsubtype3                 float64\n",
       "weapsubtype3_txt              object\n",
       "weaptype4                    float64\n",
       "weaptype4_txt                 object\n",
       "weapsubtype4                 float64\n",
       "weapsubtype4_txt              object\n",
       "weapdetail                    object\n",
       "nkill                        float64\n",
       "nkillus                      float64\n",
       "nkillter                     float64\n",
       "nwound                       float64\n",
       "nwoundus                     float64\n",
       "nwoundte                     float64\n",
       "property                       int64\n",
       "propextent                   float64\n",
       "propextent_txt                object\n",
       "propvalue                    float64\n",
       "propcomment                   object\n",
       "ishostkid                    float64\n",
       "nhostkid                     float64\n",
       "nhostkidus                   float64\n",
       "nhours                       float64\n",
       "ndays                        float64\n",
       "divert                        object\n",
       "kidhijcountry                 object\n",
       "ransom                       float64\n",
       "ransomamt                    float64\n",
       "ransomamtus                  float64\n",
       "ransompaid                   float64\n",
       "ransompaidus                 float64\n",
       "ransomnote                    object\n",
       "hostkidoutcome               float64\n",
       "hostkidoutcome_txt            object\n",
       "nreleased                    float64\n",
       "addnotes                      object\n",
       "scite1                        object\n",
       "scite2                        object\n",
       "scite3                        object\n",
       "dbsource                      object\n",
       "INT_LOG                        int64\n",
       "INT_IDEO                       int64\n",
       "INT_MISC                       int64\n",
       "INT_ANY                        int64\n",
       "related                       object\n",
       "cluster                        int32\n",
       "dtype: object"
      ]
     },
     "execution_count": 32,
     "metadata": {},
     "output_type": "execute_result"
    }
   ],
   "source": [
    "# processing data remove txt values\n",
    "\n",
    "df_cluster.dtypes"
   ]
  },
  {
   "cell_type": "code",
   "execution_count": 8,
   "metadata": {
    "ExecuteTime": {
     "end_time": "2019-08-14T21:09:29.378408Z",
     "start_time": "2019-08-14T21:09:26.469682Z"
    }
   },
   "outputs": [],
   "source": [
    "# Sort based on cluster to separate to cluster\n",
    "df_preprocess = df_cluster\n",
    "\n",
    "# sort the dataframe\n",
    "df_preprocess_sort = df_preprocess.sort_values(by='cluster')\n",
    "\n",
    "# set the index to be this and don't drop\n",
    "df_preprocess_sort.set_index(keys=['cluster'], drop=False,inplace=True)\n",
    "\n",
    "# get a list of names\n",
    "cluster_list = df_preprocess_sort['cluster'].unique().tolist()\n",
    "\n",
    "df_preprocess_sort = df_preprocess_sort.fillna(-10)\n",
    "\n",
    "\n",
    "# now we can perform a lookup on a 'view' of the dataframe\n",
    "group_0 = df_preprocess_sort.loc[df_preprocess_sort.cluster==0]\n",
    "group_1 = df_preprocess_sort.loc[df_preprocess_sort.cluster==1]\n",
    "group_2 = df_preprocess_sort.loc[df_preprocess_sort.cluster==2]\n",
    "group_3 = df_preprocess_sort.loc[df_preprocess_sort.cluster==3]\n",
    "group_4 = df_preprocess_sort.loc[df_preprocess_sort.cluster==4]\n",
    "\n"
   ]
  },
  {
   "cell_type": "code",
   "execution_count": 128,
   "metadata": {
    "ExecuteTime": {
     "end_time": "2019-08-15T07:58:19.475833Z",
     "start_time": "2019-08-15T07:58:19.394095Z"
    }
   },
   "outputs": [
    {
     "name": "stdout",
     "output_type": "stream",
     "text": [
      "['eventid', 'iyear', 'imonth', 'iday', 'extended', 'country', 'region', 'latitude', 'longitude', 'specificity', 'vicinity', 'crit1', 'crit2', 'crit3', 'doubtterr', 'alternative', 'multiple', 'suicide', 'attacktype1', 'attacktype2', 'attacktype3', 'targtype1', 'targsubtype1', 'natlty1', 'targtype2', 'targsubtype2', 'natlty2', 'targtype3', 'targsubtype3', 'natlty3', 'guncertain1', 'guncertain2', 'guncertain3', 'individual', 'nperps', 'nperpcap', 'claimed', 'claimmode', 'claim2', 'claimmode2', 'claim3', 'claimmode3', 'compclaim', 'weaptype1', 'weapsubtype1', 'weaptype2', 'weapsubtype2', 'weaptype3', 'weapsubtype3', 'weaptype4', 'weapsubtype4', 'propvalue', 'ishostkid', 'nhostkid', 'nhostkidus', 'nhours', 'ndays', 'ransom', 'ransomamt', 'ransomamtus', 'ransompaid', 'ransompaidus', 'hostkidoutcome', 'nreleased', 'INT_LOG', 'INT_IDEO', 'INT_MISC', 'INT_ANY', 'cluster']\n"
     ]
    },
    {
     "data": {
      "text/plain": [
       "eventid             int64\n",
       "iyear               int64\n",
       "imonth              int64\n",
       "iday                int64\n",
       "extended            int64\n",
       "country            object\n",
       "region              int64\n",
       "latitude          float64\n",
       "longitude         float64\n",
       "specificity       float64\n",
       "vicinity            int64\n",
       "crit1               int64\n",
       "crit2               int64\n",
       "crit3               int64\n",
       "doubtterr         float64\n",
       "alternative       float64\n",
       "multiple          float64\n",
       "suicide             int64\n",
       "attacktype1         int64\n",
       "attacktype2       float64\n",
       "attacktype3       float64\n",
       "targtype1           int64\n",
       "targsubtype1      float64\n",
       "natlty1           float64\n",
       "targtype2         float64\n",
       "targsubtype2      float64\n",
       "natlty2           float64\n",
       "targtype3         float64\n",
       "targsubtype3      float64\n",
       "natlty3           float64\n",
       "guncertain1       float64\n",
       "guncertain2       float64\n",
       "guncertain3       float64\n",
       "individual          int64\n",
       "nperps            float64\n",
       "nperpcap          float64\n",
       "claimed           float64\n",
       "claimmode         float64\n",
       "claim2            float64\n",
       "claimmode2        float64\n",
       "claim3            float64\n",
       "claimmode3        float64\n",
       "compclaim         float64\n",
       "weaptype1           int64\n",
       "weapsubtype1      float64\n",
       "weaptype2         float64\n",
       "weapsubtype2      float64\n",
       "weaptype3         float64\n",
       "weapsubtype3      float64\n",
       "weaptype4         float64\n",
       "weapsubtype4      float64\n",
       "propvalue         float64\n",
       "ishostkid         float64\n",
       "nhostkid          float64\n",
       "nhostkidus        float64\n",
       "nhours            float64\n",
       "ndays             float64\n",
       "ransom            float64\n",
       "ransomamt         float64\n",
       "ransomamtus       float64\n",
       "ransompaid        float64\n",
       "ransompaidus      float64\n",
       "hostkidoutcome    float64\n",
       "nreleased         float64\n",
       "INT_LOG             int64\n",
       "INT_IDEO            int64\n",
       "INT_MISC            int64\n",
       "INT_ANY             int64\n",
       "cluster             int32\n",
       "dtype: object"
      ]
     },
     "execution_count": 128,
     "metadata": {},
     "output_type": "execute_result"
    }
   ],
   "source": [
    "# Cross-validation\n",
    "from sklearn import tree\n",
    "#from sklearn.cross_validation import cross_val_score\n",
    "from sklearn.model_selection import GridSearchCV\n",
    "\n",
    "\n",
    "#selected_df['success'] = selected_df['success'].map({'nonSuccess':0,'Success':1})\n",
    "feature_cols = ['iyear','imonth','iday','crit1','crit2','crit3','multiple', # 'resolution',\n",
    "                  'country',#'region',#'city',\n",
    "                'specificity',\n",
    "                  'attacktype1','suicide',\n",
    "                  'weaptype1','weapsubtype1',\n",
    "                  'targtype1','targsubtype1',#'corp1','target1',\n",
    "                'natlty1', \n",
    "                #'success', \n",
    "                  #'gname','gsubname',\n",
    "                'guncertain1','individual','nperps','nperpcap','claimed','claimmode','compclaim',\n",
    "                #'nkill','nkillter','nwound','nwoundte','property','propextent',\n",
    "                  'INT_LOG','INT_IDEO','INT_MISC','INT_ANY']\n",
    "\n",
    "feature_cols_ori = df_preprocess.columns\n",
    "\n",
    "list_remove = ['provstate', 'city', 'summary', 'location', 'weapdetail',\n",
    "               'corp1', 'target1',\n",
    "               'corp2', 'target2',\n",
    "               'corp3', 'target3',\n",
    "               'motive',\n",
    "               'approxdate', 'success',  'resolution',  'country_txt', 'region_txt', 'alternative_txt', \n",
    "               'attacktype1_txt', 'attacktype2_txt', 'attacktype3_txt', \n",
    "               'targtype1_txt','targsubtype1_txt', 'natlty1_txt',\n",
    "               'targtype2_txt','targsubtype2_txt', 'natlty2_txt', \n",
    "               'targtype3_txt','targsubtype3_txt', 'natlty3_txt', \n",
    "               'gname', 'gsubname',\n",
    "               'gname2', 'gsubname2', 'gname3', 'gsubname3', \n",
    "               'claimmode_txt', 'claimmode2_txt', 'claimmode3_txt',\n",
    "               'weaptype1_txt', 'weapsubtype1_txt', \n",
    "               'weaptype2_txt', 'weapsubtype2_txt',\n",
    "               'weaptype3_txt', 'weapsubtype3_txt', \n",
    "               'weaptype4_txt', 'weapsubtype4_txt', \n",
    "               'propextent_txt', 'hostkidoutcome_txt',\n",
    "               'related', 'addnotes', 'scite1', 'scite2', 'scite3', 'dbsource',\n",
    "               'ransomnote', 'divert','kidhijcountry', 'propcomment',\n",
    "               # extra-features\n",
    "               'nkill','nkillter', 'nkillus',\n",
    "               'nwound','nwoundte','nwoundus',\n",
    "               'property','propextent',\n",
    "              ]\n",
    "feature_cols = []\n",
    "for i in feature_cols_ori:\n",
    "    if i in list_remove:\n",
    "        continue\n",
    "    else:\n",
    "        feature_cols.append(i)\n",
    "    \n",
    "print (feature_cols)       \n",
    "X = group_3[feature_cols] # Features\n",
    "#y = selected_df.success # Target variable\n",
    "y = group_3.success\n",
    "X_train, X_test, y_train, y_test = train_test_split(X, y, test_size=0.2, random_state=1) # 80% training and 20% test\n",
    "\n",
    "tsetdf = pd.DataFrame(df_cluster,columns= feature_cols)\n",
    "tsetdf.dtypes"
   ]
  },
  {
   "cell_type": "code",
   "execution_count": 15,
   "metadata": {
    "ExecuteTime": {
     "end_time": "2019-08-14T19:19:26.958904Z",
     "start_time": "2019-08-14T19:19:25.773881Z"
    },
    "scrolled": true
   },
   "outputs": [
    {
     "name": "stdout",
     "output_type": "stream",
     "text": [
      "Fitting 3 folds for each of 306 candidates, totalling 918 fits\n"
     ]
    },
    {
     "name": "stderr",
     "output_type": "stream",
     "text": [
      "[Parallel(n_jobs=4)]: Using backend LokyBackend with 4 concurrent workers.\n"
     ]
    },
    {
     "ename": "TypeError",
     "evalue": "float() argument must be a string or a number, not 'NaTType'",
     "output_type": "error",
     "traceback": [
      "\u001b[0;31m---------------------------------------------------------------------------\u001b[0m",
      "\u001b[0;31m_RemoteTraceback\u001b[0m                          Traceback (most recent call last)",
      "\u001b[0;31m_RemoteTraceback\u001b[0m: \n\"\"\"\nTraceback (most recent call last):\n  File \"/home/tringuyen/.local/lib/python3.6/site-packages/joblib/externals/loky/process_executor.py\", line 418, in _process_worker\n    r = call_item()\n  File \"/home/tringuyen/.local/lib/python3.6/site-packages/joblib/externals/loky/process_executor.py\", line 272, in __call__\n    return self.fn(*self.args, **self.kwargs)\n  File \"/home/tringuyen/.local/lib/python3.6/site-packages/joblib/_parallel_backends.py\", line 567, in __call__\n    return self.func(*args, **kwargs)\n  File \"/home/tringuyen/.local/lib/python3.6/site-packages/joblib/parallel.py\", line 225, in __call__\n    for func, args, kwargs in self.items]\n  File \"/home/tringuyen/.local/lib/python3.6/site-packages/joblib/parallel.py\", line 225, in <listcomp>\n    for func, args, kwargs in self.items]\n  File \"/home/tringuyen/.local/lib/python3.6/site-packages/sklearn/model_selection/_validation.py\", line 516, in _fit_and_score\n    estimator.fit(X_train, y_train, **fit_params)\n  File \"/home/tringuyen/.local/lib/python3.6/site-packages/sklearn/ensemble/forest.py\", line 249, in fit\n    X = check_array(X, accept_sparse=\"csc\", dtype=DTYPE)\n  File \"/home/tringuyen/.local/lib/python3.6/site-packages/sklearn/utils/validation.py\", line 496, in check_array\n    array = np.asarray(array, dtype=dtype, order=order)\n  File \"/home/tringuyen/.local/lib/python3.6/site-packages/numpy/core/_asarray.py\", line 85, in asarray\n    return array(a, dtype, copy=False, order=order)\nTypeError: float() argument must be a string or a number, not 'NaTType'\n\"\"\"",
      "\nThe above exception was the direct cause of the following exception:\n",
      "\u001b[0;31mTypeError\u001b[0m                                 Traceback (most recent call last)",
      "\u001b[0;32m<ipython-input-15-3b5268a4c8b6>\u001b[0m in \u001b[0;36m<module>\u001b[0;34m\u001b[0m\n\u001b[1;32m     19\u001b[0m grid_search = GridSearchCV(estimator = RandomForestClassifier(), param_grid = parameters_Forest, \n\u001b[1;32m     20\u001b[0m                           cv = 3, n_jobs = 4, verbose = 2)\n\u001b[0;32m---> 21\u001b[0;31m \u001b[0mgrid_search\u001b[0m\u001b[0;34m.\u001b[0m\u001b[0mfit\u001b[0m\u001b[0;34m(\u001b[0m\u001b[0mX\u001b[0m\u001b[0;34m=\u001b[0m\u001b[0mX_train\u001b[0m\u001b[0;34m,\u001b[0m \u001b[0my\u001b[0m\u001b[0;34m=\u001b[0m\u001b[0my_train\u001b[0m\u001b[0;34m)\u001b[0m\u001b[0;34m\u001b[0m\u001b[0;34m\u001b[0m\u001b[0m\n\u001b[0m\u001b[1;32m     22\u001b[0m \u001b[0;34m\u001b[0m\u001b[0m\n\u001b[1;32m     23\u001b[0m \u001b[0mtree_model_forest\u001b[0m \u001b[0;34m=\u001b[0m \u001b[0mgrid_search\u001b[0m\u001b[0;34m.\u001b[0m\u001b[0mbest_estimator_\u001b[0m\u001b[0;34m\u001b[0m\u001b[0;34m\u001b[0m\u001b[0m\n",
      "\u001b[0;32m~/.local/lib/python3.6/site-packages/sklearn/model_selection/_search.py\u001b[0m in \u001b[0;36mfit\u001b[0;34m(self, X, y, groups, **fit_params)\u001b[0m\n\u001b[1;32m    686\u001b[0m                 \u001b[0;32mreturn\u001b[0m \u001b[0mresults\u001b[0m\u001b[0;34m\u001b[0m\u001b[0;34m\u001b[0m\u001b[0m\n\u001b[1;32m    687\u001b[0m \u001b[0;34m\u001b[0m\u001b[0m\n\u001b[0;32m--> 688\u001b[0;31m             \u001b[0mself\u001b[0m\u001b[0;34m.\u001b[0m\u001b[0m_run_search\u001b[0m\u001b[0;34m(\u001b[0m\u001b[0mevaluate_candidates\u001b[0m\u001b[0;34m)\u001b[0m\u001b[0;34m\u001b[0m\u001b[0;34m\u001b[0m\u001b[0m\n\u001b[0m\u001b[1;32m    689\u001b[0m \u001b[0;34m\u001b[0m\u001b[0m\n\u001b[1;32m    690\u001b[0m         \u001b[0;31m# For multi-metric evaluation, store the best_index_, best_params_ and\u001b[0m\u001b[0;34m\u001b[0m\u001b[0;34m\u001b[0m\u001b[0;34m\u001b[0m\u001b[0m\n",
      "\u001b[0;32m~/.local/lib/python3.6/site-packages/sklearn/model_selection/_search.py\u001b[0m in \u001b[0;36m_run_search\u001b[0;34m(self, evaluate_candidates)\u001b[0m\n\u001b[1;32m   1147\u001b[0m     \u001b[0;32mdef\u001b[0m \u001b[0m_run_search\u001b[0m\u001b[0;34m(\u001b[0m\u001b[0mself\u001b[0m\u001b[0;34m,\u001b[0m \u001b[0mevaluate_candidates\u001b[0m\u001b[0;34m)\u001b[0m\u001b[0;34m:\u001b[0m\u001b[0;34m\u001b[0m\u001b[0;34m\u001b[0m\u001b[0m\n\u001b[1;32m   1148\u001b[0m         \u001b[0;34m\"\"\"Search all candidates in param_grid\"\"\"\u001b[0m\u001b[0;34m\u001b[0m\u001b[0;34m\u001b[0m\u001b[0m\n\u001b[0;32m-> 1149\u001b[0;31m         \u001b[0mevaluate_candidates\u001b[0m\u001b[0;34m(\u001b[0m\u001b[0mParameterGrid\u001b[0m\u001b[0;34m(\u001b[0m\u001b[0mself\u001b[0m\u001b[0;34m.\u001b[0m\u001b[0mparam_grid\u001b[0m\u001b[0;34m)\u001b[0m\u001b[0;34m)\u001b[0m\u001b[0;34m\u001b[0m\u001b[0;34m\u001b[0m\u001b[0m\n\u001b[0m\u001b[1;32m   1150\u001b[0m \u001b[0;34m\u001b[0m\u001b[0m\n\u001b[1;32m   1151\u001b[0m \u001b[0;34m\u001b[0m\u001b[0m\n",
      "\u001b[0;32m~/.local/lib/python3.6/site-packages/sklearn/model_selection/_search.py\u001b[0m in \u001b[0;36mevaluate_candidates\u001b[0;34m(candidate_params)\u001b[0m\n\u001b[1;32m    665\u001b[0m                                \u001b[0;32mfor\u001b[0m \u001b[0mparameters\u001b[0m\u001b[0;34m,\u001b[0m \u001b[0;34m(\u001b[0m\u001b[0mtrain\u001b[0m\u001b[0;34m,\u001b[0m \u001b[0mtest\u001b[0m\u001b[0;34m)\u001b[0m\u001b[0;34m\u001b[0m\u001b[0;34m\u001b[0m\u001b[0m\n\u001b[1;32m    666\u001b[0m                                in product(candidate_params,\n\u001b[0;32m--> 667\u001b[0;31m                                           cv.split(X, y, groups)))\n\u001b[0m\u001b[1;32m    668\u001b[0m \u001b[0;34m\u001b[0m\u001b[0m\n\u001b[1;32m    669\u001b[0m                 \u001b[0;32mif\u001b[0m \u001b[0mlen\u001b[0m\u001b[0;34m(\u001b[0m\u001b[0mout\u001b[0m\u001b[0;34m)\u001b[0m \u001b[0;34m<\u001b[0m \u001b[0;36m1\u001b[0m\u001b[0;34m:\u001b[0m\u001b[0;34m\u001b[0m\u001b[0;34m\u001b[0m\u001b[0m\n",
      "\u001b[0;32m~/.local/lib/python3.6/site-packages/joblib/parallel.py\u001b[0m in \u001b[0;36m__call__\u001b[0;34m(self, iterable)\u001b[0m\n\u001b[1;32m    932\u001b[0m \u001b[0;34m\u001b[0m\u001b[0m\n\u001b[1;32m    933\u001b[0m             \u001b[0;32mwith\u001b[0m \u001b[0mself\u001b[0m\u001b[0;34m.\u001b[0m\u001b[0m_backend\u001b[0m\u001b[0;34m.\u001b[0m\u001b[0mretrieval_context\u001b[0m\u001b[0;34m(\u001b[0m\u001b[0;34m)\u001b[0m\u001b[0;34m:\u001b[0m\u001b[0;34m\u001b[0m\u001b[0;34m\u001b[0m\u001b[0m\n\u001b[0;32m--> 934\u001b[0;31m                 \u001b[0mself\u001b[0m\u001b[0;34m.\u001b[0m\u001b[0mretrieve\u001b[0m\u001b[0;34m(\u001b[0m\u001b[0;34m)\u001b[0m\u001b[0;34m\u001b[0m\u001b[0;34m\u001b[0m\u001b[0m\n\u001b[0m\u001b[1;32m    935\u001b[0m             \u001b[0;31m# Make sure that we get a last message telling us we are done\u001b[0m\u001b[0;34m\u001b[0m\u001b[0;34m\u001b[0m\u001b[0;34m\u001b[0m\u001b[0m\n\u001b[1;32m    936\u001b[0m             \u001b[0melapsed_time\u001b[0m \u001b[0;34m=\u001b[0m \u001b[0mtime\u001b[0m\u001b[0;34m.\u001b[0m\u001b[0mtime\u001b[0m\u001b[0;34m(\u001b[0m\u001b[0;34m)\u001b[0m \u001b[0;34m-\u001b[0m \u001b[0mself\u001b[0m\u001b[0;34m.\u001b[0m\u001b[0m_start_time\u001b[0m\u001b[0;34m\u001b[0m\u001b[0;34m\u001b[0m\u001b[0m\n",
      "\u001b[0;32m~/.local/lib/python3.6/site-packages/joblib/parallel.py\u001b[0m in \u001b[0;36mretrieve\u001b[0;34m(self)\u001b[0m\n\u001b[1;32m    831\u001b[0m             \u001b[0;32mtry\u001b[0m\u001b[0;34m:\u001b[0m\u001b[0;34m\u001b[0m\u001b[0;34m\u001b[0m\u001b[0m\n\u001b[1;32m    832\u001b[0m                 \u001b[0;32mif\u001b[0m \u001b[0mgetattr\u001b[0m\u001b[0;34m(\u001b[0m\u001b[0mself\u001b[0m\u001b[0;34m.\u001b[0m\u001b[0m_backend\u001b[0m\u001b[0;34m,\u001b[0m \u001b[0;34m'supports_timeout'\u001b[0m\u001b[0;34m,\u001b[0m \u001b[0;32mFalse\u001b[0m\u001b[0;34m)\u001b[0m\u001b[0;34m:\u001b[0m\u001b[0;34m\u001b[0m\u001b[0;34m\u001b[0m\u001b[0m\n\u001b[0;32m--> 833\u001b[0;31m                     \u001b[0mself\u001b[0m\u001b[0;34m.\u001b[0m\u001b[0m_output\u001b[0m\u001b[0;34m.\u001b[0m\u001b[0mextend\u001b[0m\u001b[0;34m(\u001b[0m\u001b[0mjob\u001b[0m\u001b[0;34m.\u001b[0m\u001b[0mget\u001b[0m\u001b[0;34m(\u001b[0m\u001b[0mtimeout\u001b[0m\u001b[0;34m=\u001b[0m\u001b[0mself\u001b[0m\u001b[0;34m.\u001b[0m\u001b[0mtimeout\u001b[0m\u001b[0;34m)\u001b[0m\u001b[0;34m)\u001b[0m\u001b[0;34m\u001b[0m\u001b[0;34m\u001b[0m\u001b[0m\n\u001b[0m\u001b[1;32m    834\u001b[0m                 \u001b[0;32melse\u001b[0m\u001b[0;34m:\u001b[0m\u001b[0;34m\u001b[0m\u001b[0;34m\u001b[0m\u001b[0m\n\u001b[1;32m    835\u001b[0m                     \u001b[0mself\u001b[0m\u001b[0;34m.\u001b[0m\u001b[0m_output\u001b[0m\u001b[0;34m.\u001b[0m\u001b[0mextend\u001b[0m\u001b[0;34m(\u001b[0m\u001b[0mjob\u001b[0m\u001b[0;34m.\u001b[0m\u001b[0mget\u001b[0m\u001b[0;34m(\u001b[0m\u001b[0;34m)\u001b[0m\u001b[0;34m)\u001b[0m\u001b[0;34m\u001b[0m\u001b[0;34m\u001b[0m\u001b[0m\n",
      "\u001b[0;32m~/.local/lib/python3.6/site-packages/joblib/_parallel_backends.py\u001b[0m in \u001b[0;36mwrap_future_result\u001b[0;34m(future, timeout)\u001b[0m\n\u001b[1;32m    519\u001b[0m         AsyncResults.get from multiprocessing.\"\"\"\n\u001b[1;32m    520\u001b[0m         \u001b[0;32mtry\u001b[0m\u001b[0;34m:\u001b[0m\u001b[0;34m\u001b[0m\u001b[0;34m\u001b[0m\u001b[0m\n\u001b[0;32m--> 521\u001b[0;31m             \u001b[0;32mreturn\u001b[0m \u001b[0mfuture\u001b[0m\u001b[0;34m.\u001b[0m\u001b[0mresult\u001b[0m\u001b[0;34m(\u001b[0m\u001b[0mtimeout\u001b[0m\u001b[0;34m=\u001b[0m\u001b[0mtimeout\u001b[0m\u001b[0;34m)\u001b[0m\u001b[0;34m\u001b[0m\u001b[0;34m\u001b[0m\u001b[0m\n\u001b[0m\u001b[1;32m    522\u001b[0m         \u001b[0;32mexcept\u001b[0m \u001b[0mLokyTimeoutError\u001b[0m\u001b[0;34m:\u001b[0m\u001b[0;34m\u001b[0m\u001b[0;34m\u001b[0m\u001b[0m\n\u001b[1;32m    523\u001b[0m             \u001b[0;32mraise\u001b[0m \u001b[0mTimeoutError\u001b[0m\u001b[0;34m(\u001b[0m\u001b[0;34m)\u001b[0m\u001b[0;34m\u001b[0m\u001b[0;34m\u001b[0m\u001b[0m\n",
      "\u001b[0;32m/usr/lib/python3.6/concurrent/futures/_base.py\u001b[0m in \u001b[0;36mresult\u001b[0;34m(self, timeout)\u001b[0m\n\u001b[1;32m    430\u001b[0m                 \u001b[0;32mraise\u001b[0m \u001b[0mCancelledError\u001b[0m\u001b[0;34m(\u001b[0m\u001b[0;34m)\u001b[0m\u001b[0;34m\u001b[0m\u001b[0;34m\u001b[0m\u001b[0m\n\u001b[1;32m    431\u001b[0m             \u001b[0;32melif\u001b[0m \u001b[0mself\u001b[0m\u001b[0;34m.\u001b[0m\u001b[0m_state\u001b[0m \u001b[0;34m==\u001b[0m \u001b[0mFINISHED\u001b[0m\u001b[0;34m:\u001b[0m\u001b[0;34m\u001b[0m\u001b[0;34m\u001b[0m\u001b[0m\n\u001b[0;32m--> 432\u001b[0;31m                 \u001b[0;32mreturn\u001b[0m \u001b[0mself\u001b[0m\u001b[0;34m.\u001b[0m\u001b[0m__get_result\u001b[0m\u001b[0;34m(\u001b[0m\u001b[0;34m)\u001b[0m\u001b[0;34m\u001b[0m\u001b[0;34m\u001b[0m\u001b[0m\n\u001b[0m\u001b[1;32m    433\u001b[0m             \u001b[0;32melse\u001b[0m\u001b[0;34m:\u001b[0m\u001b[0;34m\u001b[0m\u001b[0;34m\u001b[0m\u001b[0m\n\u001b[1;32m    434\u001b[0m                 \u001b[0;32mraise\u001b[0m \u001b[0mTimeoutError\u001b[0m\u001b[0;34m(\u001b[0m\u001b[0;34m)\u001b[0m\u001b[0;34m\u001b[0m\u001b[0;34m\u001b[0m\u001b[0m\n",
      "\u001b[0;32m/usr/lib/python3.6/concurrent/futures/_base.py\u001b[0m in \u001b[0;36m__get_result\u001b[0;34m(self)\u001b[0m\n\u001b[1;32m    382\u001b[0m     \u001b[0;32mdef\u001b[0m \u001b[0m__get_result\u001b[0m\u001b[0;34m(\u001b[0m\u001b[0mself\u001b[0m\u001b[0;34m)\u001b[0m\u001b[0;34m:\u001b[0m\u001b[0;34m\u001b[0m\u001b[0;34m\u001b[0m\u001b[0m\n\u001b[1;32m    383\u001b[0m         \u001b[0;32mif\u001b[0m \u001b[0mself\u001b[0m\u001b[0;34m.\u001b[0m\u001b[0m_exception\u001b[0m\u001b[0;34m:\u001b[0m\u001b[0;34m\u001b[0m\u001b[0;34m\u001b[0m\u001b[0m\n\u001b[0;32m--> 384\u001b[0;31m             \u001b[0;32mraise\u001b[0m \u001b[0mself\u001b[0m\u001b[0;34m.\u001b[0m\u001b[0m_exception\u001b[0m\u001b[0;34m\u001b[0m\u001b[0;34m\u001b[0m\u001b[0m\n\u001b[0m\u001b[1;32m    385\u001b[0m         \u001b[0;32melse\u001b[0m\u001b[0;34m:\u001b[0m\u001b[0;34m\u001b[0m\u001b[0;34m\u001b[0m\u001b[0m\n\u001b[1;32m    386\u001b[0m             \u001b[0;32mreturn\u001b[0m \u001b[0mself\u001b[0m\u001b[0;34m.\u001b[0m\u001b[0m_result\u001b[0m\u001b[0;34m\u001b[0m\u001b[0;34m\u001b[0m\u001b[0m\n",
      "\u001b[0;31mTypeError\u001b[0m: float() argument must be a string or a number, not 'NaTType'"
     ]
    }
   ],
   "source": [
    "####### Random Forest ############\n",
    "\n",
    "from sklearn.model_selection import GridSearchCV\n",
    "from sklearn.ensemble import RandomForestClassifier\n",
    "# Create the parameter grid based on the results of random search \n",
    "#param_grid = {\n",
    "#    'bootstrap': [True],\n",
    "#    'max_depth': [80, 90, 100, 110],\n",
    "#    'max_features': [2, 3],\n",
    "#    'min_samples_leaf': [3, 4, 5],\n",
    "#    'min_samples_split': [8, 10, 12],\n",
    "#    'n_estimators': [100, 200, 300, 1000]\n",
    "#}\n",
    "\n",
    "parameters_Forest={'min_samples_split' : range(2,20,2),'max_depth': range(3,20,1),'criterion': ['gini', 'entropy']}\n",
    "# Create a based model\n",
    "#rf = tree.RandomForestRegressor()\n",
    "# Instantiate the grid search model\n",
    "grid_search = GridSearchCV(estimator = RandomForestClassifier(), param_grid = parameters_Forest, \n",
    "                          cv = 3, n_jobs = 4, verbose = 2)\n",
    "grid_search.fit(X=X_train, y=y_train)\n",
    "\n",
    "tree_model_forest = grid_search.best_estimator_\n",
    "print (grid_search.best_score_, grid_search.best_params_) "
   ]
  },
  {
   "cell_type": "code",
   "execution_count": 129,
   "metadata": {
    "ExecuteTime": {
     "end_time": "2019-08-15T07:59:29.053606Z",
     "start_time": "2019-08-15T07:59:27.861817Z"
    }
   },
   "outputs": [
    {
     "name": "stderr",
     "output_type": "stream",
     "text": [
      "/home/tringuyen/.local/lib/python3.6/site-packages/sklearn/ensemble/forest.py:245: FutureWarning: The default value of n_estimators will change from 10 in version 0.20 to 100 in 0.22.\n",
      "  \"10 in version 0.20 to 100 in 0.22.\", FutureWarning)\n"
     ]
    },
    {
     "data": {
      "text/plain": [
       "RandomForestClassifier(bootstrap=True, class_weight=None, criterion='gini',\n",
       "                       max_depth=None, max_features='auto', max_leaf_nodes=None,\n",
       "                       min_impurity_decrease=0.0, min_impurity_split=None,\n",
       "                       min_samples_leaf=1, min_samples_split=4,\n",
       "                       min_weight_fraction_leaf=0.0, n_estimators=10,\n",
       "                       n_jobs=None, oob_score=False, random_state=None,\n",
       "                       verbose=0, warm_start=False)"
      ]
     },
     "execution_count": 129,
     "metadata": {},
     "output_type": "execute_result"
    },
    {
     "data": {
      "text/plain": [
       "(array([0.75675676, 0.93194805]),\n",
       " array([0.39069767, 0.98517298]),\n",
       " array([0.51533742, 0.95782168]),\n",
       " array([ 645, 5463]))"
      ]
     },
     "execution_count": 129,
     "metadata": {},
     "output_type": "execute_result"
    },
    {
     "name": "stdout",
     "output_type": "stream",
     "text": [
      "[0.75675676 0.93194805] [0.39069767 0.98517298] [0.51533742 0.95782168] [ 645 5463]\n",
      "#############\n",
      "[[ 252  393]\n",
      " [  81 5382]]\n",
      "#############\n"
     ]
    },
    {
     "data": {
      "text/plain": [
       "<matplotlib.colorbar.Colorbar at 0x7f3987bc02e8>"
      ]
     },
     "execution_count": 129,
     "metadata": {},
     "output_type": "execute_result"
    },
    {
     "data": {
      "text/plain": [
       "[[<matplotlib.axis.YTick at 0x7f3987f4a240>,\n",
       "  <matplotlib.axis.YTick at 0x7f398876fb38>],\n",
       " [Text(0, 0, 'nonSuccess'), Text(0, 0, 'success')],\n",
       " Text(0, 0.5, 'True label'),\n",
       " [<matplotlib.axis.XTick at 0x7f398876f4e0>,\n",
       "  <matplotlib.axis.XTick at 0x7f398862d240>],\n",
       " [Text(0, 0, 'nonSuccess'), Text(0, 0, 'success')],\n",
       " Text(0.5, 0, 'Predicted label'),\n",
       " Text(0.5, 1.0, 'Decision Tree')]"
      ]
     },
     "execution_count": 129,
     "metadata": {},
     "output_type": "execute_result"
    },
    {
     "data": {
      "text/plain": [
       "Text(0, 0, '252')"
      ]
     },
     "execution_count": 129,
     "metadata": {},
     "output_type": "execute_result"
    },
    {
     "data": {
      "text/plain": [
       "Text(1, 0, '393')"
      ]
     },
     "execution_count": 129,
     "metadata": {},
     "output_type": "execute_result"
    },
    {
     "data": {
      "text/plain": [
       "Text(0, 1, '81')"
      ]
     },
     "execution_count": 129,
     "metadata": {},
     "output_type": "execute_result"
    },
    {
     "data": {
      "text/plain": [
       "Text(1, 1, '5382')"
      ]
     },
     "execution_count": 129,
     "metadata": {},
     "output_type": "execute_result"
    },
    {
     "data": {
      "text/plain": [
       "Text(0.5, 1.05, 'Confusion matrix of the classifier')"
      ]
     },
     "execution_count": 129,
     "metadata": {},
     "output_type": "execute_result"
    },
    {
     "data": {
      "text/plain": [
       "<matplotlib.colorbar.Colorbar at 0x7f39878fcd30>"
      ]
     },
     "execution_count": 129,
     "metadata": {},
     "output_type": "execute_result"
    },
    {
     "data": {
      "text/plain": [
       "[Text(0, 1, ''), Text(0, 1, 'nonSuccess'), Text(0, 1, 'success')]"
      ]
     },
     "execution_count": 129,
     "metadata": {},
     "output_type": "execute_result"
    },
    {
     "data": {
      "text/plain": [
       "[Text(0, 0, ''), Text(0, 0, 'nonSuccess'), Text(0, 0, 'success')]"
      ]
     },
     "execution_count": 129,
     "metadata": {},
     "output_type": "execute_result"
    },
    {
     "data": {
      "text/plain": [
       "Text(0.5, 0, 'Predicted')"
      ]
     },
     "execution_count": 129,
     "metadata": {},
     "output_type": "execute_result"
    },
    {
     "data": {
      "text/plain": [
       "Text(0, 0.5, 'True')"
      ]
     },
     "execution_count": 129,
     "metadata": {},
     "output_type": "execute_result"
    },
    {
     "data": {
      "text/plain": [
       "Text(0, 0, '252')"
      ]
     },
     "execution_count": 129,
     "metadata": {},
     "output_type": "execute_result"
    },
    {
     "data": {
      "text/plain": [
       "Text(1, 0, '393')"
      ]
     },
     "execution_count": 129,
     "metadata": {},
     "output_type": "execute_result"
    },
    {
     "data": {
      "text/plain": [
       "Text(0, 1, '81')"
      ]
     },
     "execution_count": 129,
     "metadata": {},
     "output_type": "execute_result"
    },
    {
     "data": {
      "text/plain": [
       "Text(1, 1, '5382')"
      ]
     },
     "execution_count": 129,
     "metadata": {},
     "output_type": "execute_result"
    },
    {
     "data": {
      "image/png": "[encoded data removed]",
      "text/plain": [
       "<Figure size 432x288 with 2 Axes>"
      ]
     },
     "metadata": {
      "needs_background": "light"
     },
     "output_type": "display_data"
    },
    {
     "data": {
      "image/png": "[encoded data removed]",
      "text/plain": [
       "<Figure size 432x288 with 2 Axes>"
      ]
     },
     "metadata": {
      "needs_background": "light"
     },
     "output_type": "display_data"
    },
    {
     "data": {
      "text/plain": [
       "<matplotlib.axes._subplots.AxesSubplot at 0x7f3987737390>"
      ]
     },
     "execution_count": 129,
     "metadata": {},
     "output_type": "execute_result"
    },
    {
     "data": {
      "text/plain": [
       "0.9223968565815324"
      ]
     },
     "execution_count": 129,
     "metadata": {},
     "output_type": "execute_result"
    },
    {
     "data": {
      "image/png": "[encoded data removed]",
      "text/plain": [
       "<Figure size 432x288 with 2 Axes>"
      ]
     },
     "metadata": {
      "needs_background": "light"
     },
     "output_type": "display_data"
    }
   ],
   "source": [
    "# draw the result with decision tree\n",
    "\n",
    "\n",
    "from sklearn.metrics import confusion_matrix\n",
    "import seaborn as sns\n",
    "import matplotlib.pyplot as plt\n",
    "import seaborn as sns\n",
    "from sklearn.ensemble import RandomForestClassifier\n",
    "import matplotlib\n",
    "import matplotlib.pyplot as plt\n",
    "\n",
    "# set up the random forest\n",
    "parameters_Forest_best ={'min_samples_split': 4, 'criterion': 'gini', 'max_depth': 19}\n",
    "clf_forest_Final = RandomForestClassifier(min_samples_split= 4,  criterion= 'gini' )\n",
    "\n",
    "# Train the random forest\n",
    "clf_forest_Final.fit(X_train,y_train)\n",
    "\n",
    "# Test the random forest\n",
    "y_pred_forest = clf_forest_Final.predict(X_test)\n",
    "\n",
    "# calculate the benchmark of the random forest\n",
    "# confusion matrix\n",
    "cm_forest = confusion_matrix(y_test, y_pred_forest)\n",
    "\n",
    "# precision, recall and f_score\n",
    "precision, recall, f_score, support = precision_recall_fscore_support(y_test, y_pred_forest.round())\n",
    "precision_recall_fscore_support(y_test, y_pred_forest.round())  # per label\n",
    "\n",
    "print (precision, recall, f_score, support)\n",
    "\n",
    "\n",
    "labels = ['nonSuccess','success']\n",
    "\n",
    "\n",
    "#plot_confusion_matrix(y_test, y_pred_forest.round(), labels, title='Confusion matrix, without normalization')\n",
    "\n",
    "normalize = False\n",
    "\n",
    "print ('#############')\n",
    "print (cm_forest)\n",
    "print ('#############')\n",
    "\n",
    "fig, ax = plt.subplots()\n",
    "im = ax.imshow(cm_forest, interpolation='nearest', cmap=plt.cm.Blues)\n",
    "ax.figure.colorbar(im, ax=ax)\n",
    "# We want to show all ticks...\n",
    "ax.set(xticks=np.arange(cm_forest.shape[1]),\n",
    "       yticks=np.arange(cm_forest.shape[0]),\n",
    "       # ... and label them with the respective list entries\n",
    "       xticklabels=['nonSuccess','success'], yticklabels=['nonSuccess','success'],\n",
    "       title='Decision Tree',\n",
    "       ylabel='True label',\n",
    "       xlabel='Predicted label')\n",
    "\n",
    "fmt = '.2f' if normalize else 'd'\n",
    "thresh = cm_forest.max() / 2.\n",
    "for i in range(cm_forest.shape[0]):\n",
    "    for j in range(cm_forest.shape[1]):\n",
    "        ax.text(j, i, format(cm_forest[i, j], fmt),\n",
    "                ha=\"center\", va=\"center\",\n",
    "                color=\"white\" if cm_forest[i, j] > thresh else \"black\")\n",
    "        \n",
    "fig.tight_layout()\n",
    "################################################\n",
    "fig = plt.figure()\n",
    "ax = fig.add_subplot(111)\n",
    "cax = ax.matshow(cm_forest, interpolation='nearest', cmap=plt.cm.Blues)\n",
    "plt.title('Confusion matrix of the classifier')\n",
    "fig.colorbar(cax)\n",
    "ax.set_xticklabels([''] + labels)\n",
    "ax.set_yticklabels([''] + labels)\n",
    "plt.xlabel('Predicted')\n",
    "plt.ylabel('True')\n",
    "\n",
    "for i in range(cm_forest.shape[0]):\n",
    "    for j in range(cm_forest.shape[1]):\n",
    "        ax.text(j, i, format(cm_forest[i, j], fmt),\n",
    "                ha=\"center\", va=\"center\",\n",
    "                color=\"white\" if cm_forest[i, j] > thresh else \"black\")\n",
    "        \n",
    "plt.show()\n",
    "################################################\n",
    "\n",
    "\n",
    "#cm_df = pd.DataFrame(cm_forest,labels,labels)                      \n",
    "#plt.figure()  \n",
    "#sns.heatmap(cm_df, annot=True)\n",
    "data = {'y_Predicted': y_pred_forest,\n",
    "        'y_Actual':    y_test\n",
    "        }\n",
    "\n",
    "df_ = pd.DataFrame(data, columns=['y_Actual','y_Predicted'])\n",
    "confusion_matrix = pd.crosstab(df_['y_Actual'], df_['y_Predicted'], rownames=['Actual'], colnames=['Predicted'])\n",
    "\n",
    "sns.heatmap(confusion_matrix, annot=True)\n",
    "\n",
    "#fig.tight_layout()\n",
    "\n",
    "metrics.accuracy_score(y_test, y_pred_forest.round())"
   ]
  },
  {
   "cell_type": "code",
   "execution_count": 130,
   "metadata": {
    "ExecuteTime": {
     "end_time": "2019-08-15T07:59:42.213053Z",
     "start_time": "2019-08-15T07:59:42.206032Z"
    }
   },
   "outputs": [
    {
     "name": "stdout",
     "output_type": "stream",
     "text": [
      "[('targsubtype1', 0.1), ('eventid', 0.09), ('latitude', 0.08), ('longitude', 0.08), ('iday', 0.07), ('iyear', 0.06), ('targtype1', 0.06), ('imonth', 0.05), ('attacktype1', 0.05), ('weapsubtype1', 0.05), ('nperps', 0.03), ('weaptype1', 0.03), ('propvalue', 0.03), ('natlty1', 0.02), ('nperpcap', 0.02), ('country', 0.01), ('region', 0.01), ('specificity', 0.01), ('vicinity', 0.01), ('doubtterr', 0.01), ('alternative', 0.01), ('multiple', 0.01), ('guncertain1', 0.01), ('claimed', 0.01), ('claimmode', 0.01), ('weaptype2', 0.01), ('weapsubtype2', 0.01), ('ransom', 0.01), ('INT_LOG', 0.01), ('INT_IDEO', 0.01), ('INT_ANY', 0.01), ('extended', 0.0), ('crit1', 0.0), ('crit2', 0.0), ('crit3', 0.0), ('suicide', 0.0), ('attacktype2', 0.0), ('attacktype3', 0.0), ('targtype2', 0.0), ('targsubtype2', 0.0), ('natlty2', 0.0), ('targtype3', 0.0), ('targsubtype3', 0.0), ('natlty3', 0.0), ('guncertain2', 0.0), ('guncertain3', 0.0), ('individual', 0.0), ('claim2', 0.0), ('claimmode2', 0.0), ('claim3', 0.0), ('claimmode3', 0.0), ('compclaim', 0.0), ('weaptype3', 0.0), ('weapsubtype3', 0.0), ('weaptype4', 0.0), ('weapsubtype4', 0.0), ('ishostkid', 0.0), ('nhostkid', 0.0), ('nhostkidus', 0.0), ('nhours', 0.0), ('ndays', 0.0), ('ransomamt', 0.0), ('ransomamtus', 0.0), ('ransompaid', 0.0), ('ransompaidus', 0.0), ('hostkidoutcome', 0.0), ('nreleased', 0.0), ('INT_MISC', 0.0), ('cluster', 0.0)]\n"
     ]
    }
   ],
   "source": [
    "# Get numerical feature importances\n",
    "importances_Tree = list(clf_forest_Final.feature_importances_)\n",
    "\n",
    "# List of tuples with variable and importance\n",
    "feature_importances_Tree = [(feature, round(importance, 2)) for feature, importance in zip(feature_cols, importances_Tree)]\n",
    "\n",
    "# Sort the feature importances by most important first\n",
    "feature_importances_Tree = sorted(feature_importances_Tree, key = lambda x: x[1], reverse = True)\n",
    "\n",
    "# Print out the feature and importances \n",
    "print (feature_importances_Tree)\n",
    "#[print('Variable: {:20} Importance: {}'.format(*pair)) for pair in feature_importances];"
   ]
  },
  {
   "cell_type": "code",
   "execution_count": 135,
   "metadata": {
    "ExecuteTime": {
     "end_time": "2019-08-15T08:18:28.267151Z",
     "start_time": "2019-08-15T08:17:54.558121Z"
    }
   },
   "outputs": [
    {
     "name": "stdout",
     "output_type": "stream",
     "text": [
      "dot: graph is too large for cairo-renderer bitmaps. Scaling by 0.50091 to fit\n",
      "\n"
     ]
    },
    {
     "data": {
      "text/plain": [
       "True"
      ]
     },
     "execution_count": 135,
     "metadata": {},
     "output_type": "execute_result"
    }
   ],
   "source": [
    "# Visualization for the forest\n",
    "\n",
    "import pydotplus\n",
    "import six\n",
    "from sklearn import tree\n",
    "\n",
    "dotfile = six.StringIO()\n",
    "i_tree = 0\n",
    "for tree_in_forest in clf_forest_Final.estimators_:\n",
    "    if i_tree <1:        \n",
    "        tree.export_graphviz(tree_in_forest, out_file=dotfile)\n",
    "        pydotplus.graph_from_dot_data(dotfile.getvalue()).write_png('dtree'+ str(i_tree) +'.png')\n",
    "        i_tree = i_tree + 1"
   ]
  },
  {
   "cell_type": "markdown",
   "metadata": {
    "heading_collapsed": true
   },
   "source": [
    "# Draft"
   ]
  },
  {
   "cell_type": "code",
   "execution_count": 135,
   "metadata": {
    "ExecuteTime": {
     "end_time": "2019-08-14T09:54:17.061635Z",
     "start_time": "2019-08-14T09:54:17.057292Z"
    },
    "hidden": true
   },
   "outputs": [
    {
     "name": "stdout",
     "output_type": "stream",
     "text": [
      "[1 0 3 0 0 0 0 0 0 0 0 0 0 0 0 0 0 0 0 0 0 0 0 0 0 0 0 0 0 0 0 0 0 3 0 1 0\n",
      " 0 0 0 0 0 0 0 0 0 0 0 0 0 0 3 3 0 0 0 0 0 0 0 3 0 0 0 0 0 0 0 0 0 0 3 0 0\n",
      " 0 0 0 0 0 0 1 0 0 0 2 0 3 0 0 0 0 0 0 0 0 0 0 0 0 3 0 0 3 0 0 0 0 0 0 0 0\n",
      " 0 0 0 0 0 0 0 0 0 0 0 0 0 0 0 0 0 3 0 3 0 0 0 1 0 0 0 0 3 3 0 0 0 0 0 0 3\n",
      " 0 0 0 0 0 0 0 0 0 0 0 3 3 0 0 0 0 0 3 3 0 0 0 0 0 0 0 3 0 0 0 3 0 0 0 3 0\n",
      " 0 3 0 3 3 0 0 0 0 0 0 0 3 0 0 3 0 0 0 0]\n"
     ]
    }
   ],
   "source": [
    "print (y_kmeans2)"
   ]
  },
  {
   "cell_type": "code",
   "execution_count": null,
   "metadata": {
    "hidden": true
   },
   "outputs": [],
   "source": []
  },
  {
   "cell_type": "code",
   "execution_count": 96,
   "metadata": {
    "ExecuteTime": {
     "end_time": "2019-08-14T20:47:57.210763Z",
     "start_time": "2019-08-14T20:47:57.191416Z"
    },
    "hidden": true
   },
   "outputs": [],
   "source": [
    "from sklearn.metrics import confusion_matrix\n",
    "from sklearn.utils.multiclass import unique_labels\n",
    "\n",
    "def plot_confusion_matrix(y_true, y_pred, classes,\n",
    "                          normalize=False,\n",
    "                          title=None,\n",
    "                          cmap=plt.cm.Blues):\n",
    "    \"\"\"\n",
    "    This function prints and plots the confusion matrix.\n",
    "    Normalization can be applied by setting `normalize=True`.\n",
    "    \"\"\"\n",
    "    if not title:\n",
    "        if normalize:\n",
    "            title = 'Normalized confusion matrix'\n",
    "        else:\n",
    "            title = 'Confusion matrix, without normalization'\n",
    "\n",
    "    # Compute confusion matrix\n",
    "    cm = confusion_matrix(y_true, y_pred)\n",
    "    # Only use the labels that appear in the data\n",
    "    #classes = classes[unique_labels(y_true, y_pred)]\n",
    "    if normalize:\n",
    "        cm = cm.astype('float') / cm.sum(axis=1)[:, np.newaxis]\n",
    "        print(\"Normalized confusion matrix\")\n",
    "    else:\n",
    "        print('Confusion matrix, without normalization')\n",
    "\n",
    "    print(cm)\n",
    "\n",
    "    fig, ax = plt.subplots()\n",
    "    im = ax.imshow(cm, interpolation='nearest', cmap=cmap)\n",
    "    ax.figure.colorbar(im, ax=ax)\n",
    "    # We want to show all ticks...\n",
    "    ax.set(xticks=np.arange(cm.shape[1]),\n",
    "           yticks=np.arange(cm.shape[0]),\n",
    "           # ... and label them with the respective list entries\n",
    "           xticklabels=classes, yticklabels=classes,\n",
    "           title=title,\n",
    "           ylabel='True label',\n",
    "           xlabel='Predicted label')\n",
    "\n",
    "    # Rotate the tick labels and set their alignment.\n",
    "    plt.setp(ax.get_xticklabels(), rotation=45, ha=\"right\",\n",
    "             rotation_mode=\"anchor\")\n",
    "\n",
    "    # Loop over data dimensions and create text annotations.\n",
    "    fmt = '.2f' if normalize else 'd'\n",
    "    thresh = cm.max() / 2.\n",
    "    for i in range(cm.shape[0]):\n",
    "        for j in range(cm.shape[1]):\n",
    "            ax.text(j, i, format(cm[i, j], fmt),\n",
    "                    ha=\"center\", va=\"center\",\n",
    "                    color=\"white\" if cm[i, j] > thresh else \"black\")\n",
    "    fig.tight_layout()\n",
    "    return ax\n"
   ]
  },
  {
   "cell_type": "code",
   "execution_count": 183,
   "metadata": {
    "ExecuteTime": {
     "end_time": "2019-08-14T13:05:47.866288Z",
     "start_time": "2019-08-14T13:05:47.830292Z"
    },
    "hidden": true
   },
   "outputs": [
    {
     "data": {
      "text/html": [
       "<div>\n",
       "<style scoped>\n",
       "    .dataframe tbody tr th:only-of-type {\n",
       "        vertical-align: middle;\n",
       "    }\n",
       "\n",
       "    .dataframe tbody tr th {\n",
       "        vertical-align: top;\n",
       "    }\n",
       "\n",
       "    .dataframe thead th {\n",
       "        text-align: right;\n",
       "    }\n",
       "</style>\n",
       "<table border=\"1\" class=\"dataframe\">\n",
       "  <thead>\n",
       "    <tr style=\"text-align: right;\">\n",
       "      <th></th>\n",
       "      <th>eventid</th>\n",
       "      <th>iyear</th>\n",
       "      <th>imonth</th>\n",
       "      <th>iday</th>\n",
       "      <th>approxdate</th>\n",
       "      <th>extended</th>\n",
       "      <th>resolution</th>\n",
       "      <th>country</th>\n",
       "      <th>country_txt</th>\n",
       "      <th>region</th>\n",
       "      <th>...</th>\n",
       "      <th>addnotes</th>\n",
       "      <th>scite1</th>\n",
       "      <th>scite2</th>\n",
       "      <th>scite3</th>\n",
       "      <th>dbsource</th>\n",
       "      <th>INT_LOG</th>\n",
       "      <th>INT_IDEO</th>\n",
       "      <th>INT_MISC</th>\n",
       "      <th>INT_ANY</th>\n",
       "      <th>related</th>\n",
       "    </tr>\n",
       "  </thead>\n",
       "  <tbody>\n",
       "  </tbody>\n",
       "</table>\n",
       "<p>0 rows × 135 columns</p>\n",
       "</div>"
      ],
      "text/plain": [
       "Empty DataFrame\n",
       "Columns: [eventid, iyear, imonth, iday, approxdate, extended, resolution, country, country_txt, region, region_txt, provstate, city, latitude, longitude, specificity, vicinity, location, summary, crit1, crit2, crit3, doubtterr, alternative, alternative_txt, multiple, success, suicide, attacktype1, attacktype1_txt, attacktype2, attacktype2_txt, attacktype3, attacktype3_txt, targtype1, targtype1_txt, targsubtype1, targsubtype1_txt, corp1, target1, natlty1, natlty1_txt, targtype2, targtype2_txt, targsubtype2, targsubtype2_txt, corp2, target2, natlty2, natlty2_txt, targtype3, targtype3_txt, targsubtype3, targsubtype3_txt, corp3, target3, natlty3, natlty3_txt, gname, gsubname, gname2, gsubname2, gname3, gsubname3, motive, guncertain1, guncertain2, guncertain3, individual, nperps, nperpcap, claimed, claimmode, claimmode_txt, claim2, claimmode2, claimmode2_txt, claim3, claimmode3, claimmode3_txt, compclaim, weaptype1, weaptype1_txt, weapsubtype1, weapsubtype1_txt, weaptype2, weaptype2_txt, weapsubtype2, weapsubtype2_txt, weaptype3, weaptype3_txt, weapsubtype3, weapsubtype3_txt, weaptype4, weaptype4_txt, weapsubtype4, weapsubtype4_txt, weapdetail, nkill, nkillus, ...]\n",
       "Index: []\n",
       "\n",
       "[0 rows x 135 columns]"
      ]
     },
     "execution_count": 183,
     "metadata": {},
     "output_type": "execute_result"
    }
   ],
   "source": [
    "a = pd.DataFrame(columns= df.columns)\n",
    "a.head(10)"
   ]
  },
  {
   "cell_type": "code",
   "execution_count": null,
   "metadata": {
    "ExecuteTime": {
     "end_time": "2019-08-14T15:38:42.027204Z",
     "start_time": "2019-08-14T15:35:04.155Z"
    },
    "hidden": true
   },
   "outputs": [],
   "source": [
    "country_countryTXT = pd.DataFrame(data=np.column_stack((df.country, df.country_txt)), columns =['country', 'country_txt'])\n",
    "country_countryTXT = country_countryTXT.drop_duplicates()\n",
    "\n",
    "# sort countries based on country_txt\n",
    "country_countryTXT = country_countryTXT.sort_values(by='country')\n",
    "country_countryTXT = country_countryTXT.reset_index(drop=True)\n",
    "country_countryTXT.head(1)"
   ]
  },
  {
   "cell_type": "code",
   "execution_count": 181,
   "metadata": {
    "ExecuteTime": {
     "end_time": "2019-08-14T13:00:35.649768Z",
     "start_time": "2019-08-14T13:00:35.582945Z"
    },
    "hidden": true
   },
   "outputs": [
    {
     "data": {
      "text/html": [
       "<div>\n",
       "<style scoped>\n",
       "    .dataframe tbody tr th:only-of-type {\n",
       "        vertical-align: middle;\n",
       "    }\n",
       "\n",
       "    .dataframe tbody tr th {\n",
       "        vertical-align: top;\n",
       "    }\n",
       "\n",
       "    .dataframe thead th {\n",
       "        text-align: right;\n",
       "    }\n",
       "</style>\n",
       "<table border=\"1\" class=\"dataframe\">\n",
       "  <thead>\n",
       "    <tr style=\"text-align: right;\">\n",
       "      <th></th>\n",
       "      <th>country</th>\n",
       "      <th>country_txt</th>\n",
       "    </tr>\n",
       "  </thead>\n",
       "  <tbody>\n",
       "    <tr>\n",
       "      <th>1863</th>\n",
       "      <td>4</td>\n",
       "      <td>Afghanistan</td>\n",
       "    </tr>\n",
       "    <tr>\n",
       "      <th>13599</th>\n",
       "      <td>5</td>\n",
       "      <td>Albania</td>\n",
       "    </tr>\n",
       "    <tr>\n",
       "      <th>1584</th>\n",
       "      <td>6</td>\n",
       "      <td>Algeria</td>\n",
       "    </tr>\n",
       "    <tr>\n",
       "      <th>2470</th>\n",
       "      <td>7</td>\n",
       "      <td>Andorra</td>\n",
       "    </tr>\n",
       "    <tr>\n",
       "      <th>4462</th>\n",
       "      <td>8</td>\n",
       "      <td>Angola</td>\n",
       "    </tr>\n",
       "    <tr>\n",
       "      <th>50421</th>\n",
       "      <td>10</td>\n",
       "      <td>Antigua and Barbuda</td>\n",
       "    </tr>\n",
       "    <tr>\n",
       "      <th>152</th>\n",
       "      <td>11</td>\n",
       "      <td>Argentina</td>\n",
       "    </tr>\n",
       "    <tr>\n",
       "      <th>49474</th>\n",
       "      <td>12</td>\n",
       "      <td>Armenia</td>\n",
       "    </tr>\n",
       "    <tr>\n",
       "      <th>565</th>\n",
       "      <td>14</td>\n",
       "      <td>Australia</td>\n",
       "    </tr>\n",
       "    <tr>\n",
       "      <th>1151</th>\n",
       "      <td>15</td>\n",
       "      <td>Austria</td>\n",
       "    </tr>\n",
       "  </tbody>\n",
       "</table>\n",
       "</div>"
      ],
      "text/plain": [
       "      country          country_txt\n",
       "1863        4          Afghanistan\n",
       "13599       5              Albania\n",
       "1584        6              Algeria\n",
       "2470        7              Andorra\n",
       "4462        8               Angola\n",
       "50421      10  Antigua and Barbuda\n",
       "152        11            Argentina\n",
       "49474      12              Armenia\n",
       "565        14            Australia\n",
       "1151       15              Austria"
      ]
     },
     "execution_count": 181,
     "metadata": {},
     "output_type": "execute_result"
    }
   ],
   "source": [
    "# apply the clasification \n",
    "\n",
    "# dataframe for country and country_txt\n",
    "country_countryTXT = pd.DataFrame(data=np.column_stack((df.country, df.country_txt)), columns =['country', 'country_txt'])\n",
    "country_countryTXT = country_countryTXT.drop_duplicates()\n",
    "# sort countries based on country_txt\n",
    "country_countryTXT = country_countryTXT.sort_values(by='country_txt')\n",
    "groupCountries = divideGroup_countries(country_countryTXT, y_kmeans2)\n",
    "\n",
    "#clusters_dataset = divideClusters(df, country_countryTXT, y_kmeans2)"
   ]
  },
  {
   "cell_type": "code",
   "execution_count": 257,
   "metadata": {
    "ExecuteTime": {
     "end_time": "2019-08-14T14:23:26.604709Z",
     "start_time": "2019-08-14T14:23:26.591651Z"
    },
    "hidden": true
   },
   "outputs": [],
   "source": [
    "# create Clusters of countries\n",
    "# cluster = 4\n",
    "def divideGroup_countries(country_index, cluster):\n",
    "    g1 = []\n",
    "    g2 = []\n",
    "    g3 = []\n",
    "    g4 = []\n",
    "    g5 = []\n",
    "    \n",
    "    for i in range(0,len(cluster)):\n",
    "        #print(cluster[i])\n",
    "        #print(country_index['country'].values[i])\n",
    "        \n",
    "        if cluster[i] == 0:\n",
    "            g1.append(country_index['country'].values[i])\n",
    "            \n",
    "        elif cluster[i] == 1:\n",
    "            g2.append(country_index['country'].values[i])\n",
    "            \n",
    "        elif cluster[i] == 2:\n",
    "            g3.append(country_index['country'].values[i])\n",
    "            \n",
    "        elif cluster[i] == 3:\n",
    "            g4.append(country_index['country'].values[i])\n",
    "            \n",
    "        elif cluster[i] == 4:\n",
    "            g5.append(country_index['country'].values[i])\n",
    "            \n",
    "    return [g1, g2, g3, g4, g5]"
   ]
  },
  {
   "cell_type": "code",
   "execution_count": null,
   "metadata": {
    "hidden": true
   },
   "outputs": [],
   "source": [
    "# classifiy into different clusters\n",
    "\n",
    "# cluster = 4\n",
    "\n",
    "def divideClusters(df, group_countries):\n",
    "    df1 = pd.DataFrame(columns= df.columns)\n",
    "    df2 = pd.DataFrame(columns= df.columns)\n",
    "    df3 = pd.DataFrame(columns= df.columns)\n",
    "    df4 = pd.DataFrame(columns= df.columns)\n",
    "    df5 = pd.DataFrame(columns= df.columns)\n",
    "    \n",
    "    for index, eachRow in df.iterrows():\n",
    "    # check the country happens the event\n",
    "        if eachRow['country'] == coun\n",
    "    # check the cluster to obtain the cluster which the incident should belong to\n",
    "    \n",
    "    return [df1, df2, df3, df4]\n",
    "    \n",
    "    "
   ]
  },
  {
   "cell_type": "code",
   "execution_count": 259,
   "metadata": {
    "ExecuteTime": {
     "end_time": "2019-08-14T14:23:29.379365Z",
     "start_time": "2019-08-14T14:23:29.302864Z"
    },
    "hidden": true
   },
   "outputs": [],
   "source": [
    "# prepare the country_index\n",
    "\n",
    "country_countryTXT = pd.DataFrame(data=np.column_stack((df.country, df.country_txt)), columns =['country', 'country_txt'])\n",
    "country_countryTXT = country_countryTXT.drop_duplicates()\n",
    "\n",
    "# sort countries based on country_txt\n",
    "country_countryTXT = country_countryTXT.sort_values(by='country_txt')\n",
    "\n",
    "#print(country_countryTXT['country'])\n",
    "\n",
    "groupCountries = divideGroup_countries(country_countryTXT, y_kmeans2)\n"
   ]
  }
 ],
 "metadata": {
  "kernelspec": {
   "display_name": "Python 3",
   "language": "python",
   "name": "python3"
  },
  "language_info": {
   "codemirror_mode": {
    "name": "ipython",
    "version": 3
   },
   "file_extension": ".py",
   "mimetype": "text/x-python",
   "name": "python",
   "nbconvert_exporter": "python",
   "pygments_lexer": "ipython3",
   "version": "3.6.8"
  },
  "latex_envs": {
   "LaTeX_envs_menu_present": true,
   "autoclose": false,
   "autocomplete": true,
   "bibliofile": "biblio.bib",
   "cite_by": "apalike",
   "current_citInitial": 1,
   "eqLabelWithNumbers": true,
   "eqNumInitial": 1,
   "hotkeys": {
    "equation": "Ctrl-E",
    "itemize": "Ctrl-I"
   },
   "labels_anchors": false,
   "latex_user_defs": false,
   "report_style_numbering": false,
   "user_envs_cfg": false
  },
  "toc": {
   "base_numbering": 1,
   "nav_menu": {},
   "number_sections": true,
   "sideBar": true,
   "skip_h1_title": false,
   "title_cell": "Table of Contents",
   "title_sidebar": "Contents",
   "toc_cell": false,
   "toc_position": {
    "height": "calc(100% - 180px)",
    "left": "10px",
    "top": "150px",
    "width": "165px"
   },
   "toc_section_display": true,
   "toc_window_display": true
  },
  "varInspector": {
   "cols": {
    "lenName": 16,
    "lenType": 16,
    "lenVar": 1000
   },
   "kernels_config": {
    "python": {
     "delete_cmd_postfix": "",
     "delete_cmd_prefix": "del ",
     "library": "var_list.py",
     "varRefreshCmd": "print(var_dic_list())"
    },
    "r": {
     "delete_cmd_postfix": ") ",
     "delete_cmd_prefix": "rm(",
     "library": "var_list.r",
     "varRefreshCmd": "cat(var_dic_list()) "
    }
   },
   "oldHeight": 790.1833340000001,
   "position": {
    "height": "40px",
    "left": "1296.5px",
    "right": "20px",
    "top": "122px",
    "width": "276.5px"
   },
   "types_to_exclude": [
    "module",
    "function",
    "builtin_function_or_method",
    "instance",
    "_Feature"
   ],
   "varInspector_section_display": "none",
   "window_display": true
  }
 },
 "nbformat": 4,
 "nbformat_minor": 2
}
