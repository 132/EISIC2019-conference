{
 "cells": [
  {
   "cell_type": "code",
   "execution_count": 7,
   "metadata": {},
   "outputs": [],
   "source": [
    "# Reason why we have the getOrCreate code\n",
    "# http://stackoverflow.com/questions/28999332/how-to-access-sparkcontext-in-pyspark-script\n",
    "from pyspark import SparkContext\n",
    "# create a RDD\n",
    "sc = SparkContext.getOrCreate()\n",
    "\n",
    "# import pandas\n",
    "import pandas as pd"
   ]
  },
  {
   "cell_type": "code",
   "execution_count": 9,
   "metadata": {},
   "outputs": [
    {
     "data": {
      "text/plain": [
       "Row(eventid=u'197000000001', iyear=u'1970', imonth=u'7', iday=u'2', approxdate=None, extended=u'0', resolution=None, country=u'58', country_txt=u'Dominican Republic', region=u'2', region_txt=u'Central America & Caribbean', provstate=None, city=u'Santo Domingo', latitude=u'18.456792', longitude=u'-69.951164', specificity=u'1', vicinity=u'0', location=None, summary=None, crit1=u'1', crit2=u'1', crit3=u'1', doubtterr=u'0', alternative=None, alternative_txt=None, multiple=u'0', success=u'1', suicide=u'0', attacktype1=u'1', attacktype1_txt=u'Assassination', attacktype2=None, attacktype2_txt=None, attacktype3=None, attacktype3_txt=None, targtype1=u'14', targtype1_txt=u'Private Citizens & Property', targsubtype1=u'68', targsubtype1_txt=u'Named Civilian', corp1=None, target1=u'Julio Guzman', natlty1=u'58', natlty1_txt=u'Dominican Republic', targtype2=None, targtype2_txt=None, targsubtype2=None, targsubtype2_txt=None, corp2=None, target2=None, natlty2=None, natlty2_txt=None, targtype3=None, targtype3_txt=None, targsubtype3=None, targsubtype3_txt=None, corp3=None, target3=None, natlty3=None, natlty3_txt=None, gname=u'MANO-D', gsubname=None, gname2=None, gsubname2=None, gname3=None, gsubname3=None, motive=None, guncertain1=u'0', guncertain2=None, guncertain3=None, individual=u'0', nperps=None, nperpcap=None, claimed=None, claimmode=None, claimmode_txt=None, claim2=None, claimmode2=None, claimmode2_txt=None, claim3=None, claimmode3=None, claimmode3_txt=None, compclaim=None, weaptype1=u'13', weaptype1_txt=u'Unknown', weapsubtype1=None, weapsubtype1_txt=None, weaptype2=None, weaptype2_txt=None, weapsubtype2=None, weapsubtype2_txt=None, weaptype3=None, weaptype3_txt=None, weapsubtype3=None, weapsubtype3_txt=None, weaptype4=None, weaptype4_txt=None, weapsubtype4=None, weapsubtype4_txt=None, weapdetail=None, nkill=u'1', nkillus=None, nkillter=None, nwound=u'0', nwoundus=None, nwoundte=None, property=u'0', propextent=None, propextent_txt=None, propvalue=None, propcomment=None, ishostkid=u'0', nhostkid=None, nhostkidus=None, nhours=None, ndays=None, divert=None, kidhijcountry=None, ransom=u'0', ransomamt=None, ransomamtus=None, ransompaid=None, ransompaidus=None, ransomnote=None, hostkidoutcome=None, hostkidoutcome_txt=None, nreleased=None, addnotes=None, scite1=None, scite2=None, scite3=None, dbsource=u'PGIS', INT_LOG=u'0', INT_IDEO=u'0', INT_MISC=u'0', INT_ANY=u'0', related=None)"
      ]
     },
     "execution_count": 9,
     "metadata": {},
     "output_type": "execute_result"
    }
   ],
   "source": [
    "# read data\n",
    "readCSV = spark.read.csv(\n",
    "    \"data/globalterrorismdb_0617dist.csv\", header=True, mode=\"DROPMALFORMED\"\n",
    ")\n",
    "readCSV.head()"
   ]
  },
  {
   "cell_type": "code",
   "execution_count": 11,
   "metadata": {},
   "outputs": [
    {
     "data": {
      "text/plain": [
       "DataFrame[summary: string, eventid: string, iyear: string, imonth: string, iday: string, approxdate: string, extended: string, resolution: string, country: string, country_txt: string, region: string, region_txt: string, provstate: string, city: string, latitude: string, longitude: string, specificity: string, vicinity: string, location: string, summary: string, crit1: string, crit2: string, crit3: string, doubtterr: string, alternative: string, alternative_txt: string, multiple: string, success: string, suicide: string, attacktype1: string, attacktype1_txt: string, attacktype2: string, attacktype2_txt: string, attacktype3: string, attacktype3_txt: string, targtype1: string, targtype1_txt: string, targsubtype1: string, targsubtype1_txt: string, corp1: string, target1: string, natlty1: string, natlty1_txt: string, targtype2: string, targtype2_txt: string, targsubtype2: string, targsubtype2_txt: string, corp2: string, target2: string, natlty2: string, natlty2_txt: string, targtype3: string, targtype3_txt: string, targsubtype3: string, targsubtype3_txt: string, corp3: string, target3: string, natlty3: string, natlty3_txt: string, gname: string, gsubname: string, gname2: string, gsubname2: string, gname3: string, gsubname3: string, motive: string, guncertain1: string, guncertain2: string, guncertain3: string, individual: string, nperps: string, nperpcap: string, claimed: string, claimmode: string, claimmode_txt: string, claim2: string, claimmode2: string, claimmode2_txt: string, claim3: string, claimmode3: string, claimmode3_txt: string, compclaim: string, weaptype1: string, weaptype1_txt: string, weapsubtype1: string, weapsubtype1_txt: string, weaptype2: string, weaptype2_txt: string, weapsubtype2: string, weapsubtype2_txt: string, weaptype3: string, weaptype3_txt: string, weapsubtype3: string, weapsubtype3_txt: string, weaptype4: string, weaptype4_txt: string, weapsubtype4: string, weapsubtype4_txt: string, weapdetail: string, nkill: string, nkillus: string, nkillter: string, nwound: string, nwoundus: string, nwoundte: string, property: string, propextent: string, propextent_txt: string, propvalue: string, propcomment: string, ishostkid: string, nhostkid: string, nhostkidus: string, nhours: string, ndays: string, divert: string, kidhijcountry: string, ransom: string, ransomamt: string, ransomamtus: string, ransompaid: string, ransompaidus: string, ransomnote: string, hostkidoutcome: string, hostkidoutcome_txt: string, nreleased: string, addnotes: string, scite1: string, scite2: string, scite3: string, dbsource: string, INT_LOG: string, INT_IDEO: string, INT_MISC: string, INT_ANY: string, related: string]"
      ]
     },
     "execution_count": 11,
     "metadata": {},
     "output_type": "execute_result"
    }
   ],
   "source": [
    "readCSV.describe()"
   ]
  }
 ],
 "metadata": {
  "kernelspec": {
   "display_name": "Python 2",
   "language": "python",
   "name": "python2"
  },
  "language_info": {
   "codemirror_mode": {
    "name": "ipython",
    "version": 2
   },
   "file_extension": ".py",
   "mimetype": "text/x-python",
   "name": "python",
   "nbconvert_exporter": "python",
   "pygments_lexer": "ipython2",
   "version": "2.7.15rc1"
  }
 },
 "nbformat": 4,
 "nbformat_minor": 2
}
